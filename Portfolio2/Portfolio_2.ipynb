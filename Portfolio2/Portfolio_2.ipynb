{
  "nbformat": 4,
  "nbformat_minor": 0,
  "metadata": {
    "colab": {
      "provenance": []
    },
    "kernelspec": {
      "name": "python3",
      "display_name": "Python 3"
    },
    "language_info": {
      "name": "python"
    }
  },
  "cells": [
    {
      "cell_type": "code",
      "execution_count": 47,
      "metadata": {
        "id": "Ap9JUiv-H_9c",
        "colab": {
          "base_uri": "https://localhost:8080/"
        },
        "collapsed": true,
        "outputId": "aefdf411-40dd-4bb3-820a-29f297af0b98"
      },
      "outputs": [
        {
          "output_type": "stream",
          "name": "stdout",
          "text": [
            "Requirement already satisfied: numpy in /usr/local/lib/python3.12/dist-packages (2.0.2)\n",
            "Requirement already satisfied: pandas in /usr/local/lib/python3.12/dist-packages (2.2.2)\n",
            "Requirement already satisfied: matplotlib in /usr/local/lib/python3.12/dist-packages (3.10.0)\n",
            "Requirement already satisfied: seaborn in /usr/local/lib/python3.12/dist-packages (0.13.2)\n",
            "Requirement already satisfied: scikit-learn in /usr/local/lib/python3.12/dist-packages (1.6.1)\n",
            "Requirement already satisfied: tensorflow in /usr/local/lib/python3.12/dist-packages (2.19.0)\n",
            "Requirement already satisfied: keras in /usr/local/lib/python3.12/dist-packages (3.10.0)\n",
            "Requirement already satisfied: torch in /usr/local/lib/python3.12/dist-packages (2.8.0+cu126)\n",
            "Requirement already satisfied: opencv-python in /usr/local/lib/python3.12/dist-packages (4.12.0.88)\n",
            "Requirement already satisfied: labelme in /usr/local/lib/python3.12/dist-packages (5.8.3)\n",
            "Requirement already satisfied: statsmodels in /usr/local/lib/python3.12/dist-packages (0.14.5)\n",
            "Requirement already satisfied: scipy in /usr/local/lib/python3.12/dist-packages (1.16.1)\n",
            "Requirement already satisfied: missingno in /usr/local/lib/python3.12/dist-packages (0.5.2)\n",
            "Requirement already satisfied: python-dateutil>=2.8.2 in /usr/local/lib/python3.12/dist-packages (from pandas) (2.9.0.post0)\n",
            "Requirement already satisfied: pytz>=2020.1 in /usr/local/lib/python3.12/dist-packages (from pandas) (2025.2)\n",
            "Requirement already satisfied: tzdata>=2022.7 in /usr/local/lib/python3.12/dist-packages (from pandas) (2025.2)\n",
            "Requirement already satisfied: contourpy>=1.0.1 in /usr/local/lib/python3.12/dist-packages (from matplotlib) (1.3.3)\n",
            "Requirement already satisfied: cycler>=0.10 in /usr/local/lib/python3.12/dist-packages (from matplotlib) (0.12.1)\n",
            "Requirement already satisfied: fonttools>=4.22.0 in /usr/local/lib/python3.12/dist-packages (from matplotlib) (4.59.2)\n",
            "Requirement already satisfied: kiwisolver>=1.3.1 in /usr/local/lib/python3.12/dist-packages (from matplotlib) (1.4.9)\n",
            "Requirement already satisfied: packaging>=20.0 in /usr/local/lib/python3.12/dist-packages (from matplotlib) (25.0)\n",
            "Requirement already satisfied: pillow>=8 in /usr/local/lib/python3.12/dist-packages (from matplotlib) (11.3.0)\n",
            "Requirement already satisfied: pyparsing>=2.3.1 in /usr/local/lib/python3.12/dist-packages (from matplotlib) (3.2.3)\n",
            "Requirement already satisfied: joblib>=1.2.0 in /usr/local/lib/python3.12/dist-packages (from scikit-learn) (1.5.2)\n",
            "Requirement already satisfied: threadpoolctl>=3.1.0 in /usr/local/lib/python3.12/dist-packages (from scikit-learn) (3.6.0)\n",
            "Requirement already satisfied: absl-py>=1.0.0 in /usr/local/lib/python3.12/dist-packages (from tensorflow) (1.4.0)\n",
            "Requirement already satisfied: astunparse>=1.6.0 in /usr/local/lib/python3.12/dist-packages (from tensorflow) (1.6.3)\n",
            "Requirement already satisfied: flatbuffers>=24.3.25 in /usr/local/lib/python3.12/dist-packages (from tensorflow) (25.2.10)\n",
            "Requirement already satisfied: gast!=0.5.0,!=0.5.1,!=0.5.2,>=0.2.1 in /usr/local/lib/python3.12/dist-packages (from tensorflow) (0.6.0)\n",
            "Requirement already satisfied: google-pasta>=0.1.1 in /usr/local/lib/python3.12/dist-packages (from tensorflow) (0.2.0)\n",
            "Requirement already satisfied: libclang>=13.0.0 in /usr/local/lib/python3.12/dist-packages (from tensorflow) (18.1.1)\n",
            "Requirement already satisfied: opt-einsum>=2.3.2 in /usr/local/lib/python3.12/dist-packages (from tensorflow) (3.4.0)\n",
            "Requirement already satisfied: protobuf!=4.21.0,!=4.21.1,!=4.21.2,!=4.21.3,!=4.21.4,!=4.21.5,<6.0.0dev,>=3.20.3 in /usr/local/lib/python3.12/dist-packages (from tensorflow) (5.29.5)\n",
            "Requirement already satisfied: requests<3,>=2.21.0 in /usr/local/lib/python3.12/dist-packages (from tensorflow) (2.32.4)\n",
            "Requirement already satisfied: setuptools in /usr/local/lib/python3.12/dist-packages (from tensorflow) (75.2.0)\n",
            "Requirement already satisfied: six>=1.12.0 in /usr/local/lib/python3.12/dist-packages (from tensorflow) (1.17.0)\n",
            "Requirement already satisfied: termcolor>=1.1.0 in /usr/local/lib/python3.12/dist-packages (from tensorflow) (3.1.0)\n",
            "Requirement already satisfied: typing-extensions>=3.6.6 in /usr/local/lib/python3.12/dist-packages (from tensorflow) (4.15.0)\n",
            "Requirement already satisfied: wrapt>=1.11.0 in /usr/local/lib/python3.12/dist-packages (from tensorflow) (1.17.3)\n",
            "Requirement already satisfied: grpcio<2.0,>=1.24.3 in /usr/local/lib/python3.12/dist-packages (from tensorflow) (1.74.0)\n",
            "Requirement already satisfied: tensorboard~=2.19.0 in /usr/local/lib/python3.12/dist-packages (from tensorflow) (2.19.0)\n",
            "Requirement already satisfied: h5py>=3.11.0 in /usr/local/lib/python3.12/dist-packages (from tensorflow) (3.14.0)\n",
            "Requirement already satisfied: ml-dtypes<1.0.0,>=0.5.1 in /usr/local/lib/python3.12/dist-packages (from tensorflow) (0.5.3)\n",
            "Requirement already satisfied: rich in /usr/local/lib/python3.12/dist-packages (from keras) (13.9.4)\n",
            "Requirement already satisfied: namex in /usr/local/lib/python3.12/dist-packages (from keras) (0.1.0)\n",
            "Requirement already satisfied: optree in /usr/local/lib/python3.12/dist-packages (from keras) (0.17.0)\n",
            "Requirement already satisfied: filelock in /usr/local/lib/python3.12/dist-packages (from torch) (3.19.1)\n",
            "Requirement already satisfied: sympy>=1.13.3 in /usr/local/lib/python3.12/dist-packages (from torch) (1.13.3)\n",
            "Requirement already satisfied: networkx in /usr/local/lib/python3.12/dist-packages (from torch) (3.5)\n",
            "Requirement already satisfied: jinja2 in /usr/local/lib/python3.12/dist-packages (from torch) (3.1.6)\n",
            "Requirement already satisfied: fsspec in /usr/local/lib/python3.12/dist-packages (from torch) (2025.3.0)\n",
            "Requirement already satisfied: nvidia-cuda-nvrtc-cu12==12.6.77 in /usr/local/lib/python3.12/dist-packages (from torch) (12.6.77)\n",
            "Requirement already satisfied: nvidia-cuda-runtime-cu12==12.6.77 in /usr/local/lib/python3.12/dist-packages (from torch) (12.6.77)\n",
            "Requirement already satisfied: nvidia-cuda-cupti-cu12==12.6.80 in /usr/local/lib/python3.12/dist-packages (from torch) (12.6.80)\n",
            "Requirement already satisfied: nvidia-cudnn-cu12==9.10.2.21 in /usr/local/lib/python3.12/dist-packages (from torch) (9.10.2.21)\n",
            "Requirement already satisfied: nvidia-cublas-cu12==12.6.4.1 in /usr/local/lib/python3.12/dist-packages (from torch) (12.6.4.1)\n",
            "Requirement already satisfied: nvidia-cufft-cu12==11.3.0.4 in /usr/local/lib/python3.12/dist-packages (from torch) (11.3.0.4)\n",
            "Requirement already satisfied: nvidia-curand-cu12==10.3.7.77 in /usr/local/lib/python3.12/dist-packages (from torch) (10.3.7.77)\n",
            "Requirement already satisfied: nvidia-cusolver-cu12==11.7.1.2 in /usr/local/lib/python3.12/dist-packages (from torch) (11.7.1.2)\n",
            "Requirement already satisfied: nvidia-cusparse-cu12==12.5.4.2 in /usr/local/lib/python3.12/dist-packages (from torch) (12.5.4.2)\n",
            "Requirement already satisfied: nvidia-cusparselt-cu12==0.7.1 in /usr/local/lib/python3.12/dist-packages (from torch) (0.7.1)\n",
            "Requirement already satisfied: nvidia-nccl-cu12==2.27.3 in /usr/local/lib/python3.12/dist-packages (from torch) (2.27.3)\n",
            "Requirement already satisfied: nvidia-nvtx-cu12==12.6.77 in /usr/local/lib/python3.12/dist-packages (from torch) (12.6.77)\n",
            "Requirement already satisfied: nvidia-nvjitlink-cu12==12.6.85 in /usr/local/lib/python3.12/dist-packages (from torch) (12.6.85)\n",
            "Requirement already satisfied: nvidia-cufile-cu12==1.11.1.6 in /usr/local/lib/python3.12/dist-packages (from torch) (1.11.1.6)\n",
            "Requirement already satisfied: triton==3.4.0 in /usr/local/lib/python3.12/dist-packages (from torch) (3.4.0)\n",
            "Requirement already satisfied: imgviz in /usr/local/lib/python3.12/dist-packages (from labelme) (1.7.6)\n",
            "Requirement already satisfied: loguru in /usr/local/lib/python3.12/dist-packages (from labelme) (0.7.3)\n",
            "Requirement already satisfied: natsort>=7.1.0 in /usr/local/lib/python3.12/dist-packages (from labelme) (8.4.0)\n",
            "Requirement already satisfied: osam>=0.2.4 in /usr/local/lib/python3.12/dist-packages (from labelme) (0.2.5)\n",
            "Requirement already satisfied: pyqt5-qt5!=5.15.13 in /usr/local/lib/python3.12/dist-packages (from labelme) (5.15.17)\n",
            "Requirement already satisfied: pyqt5>=5.14.0 in /usr/local/lib/python3.12/dist-packages (from labelme) (5.15.11)\n",
            "Requirement already satisfied: pyyaml in /usr/local/lib/python3.12/dist-packages (from labelme) (6.0.2)\n",
            "Requirement already satisfied: scikit-image in /usr/local/lib/python3.12/dist-packages (from labelme) (0.25.2)\n",
            "Requirement already satisfied: patsy>=0.5.6 in /usr/local/lib/python3.12/dist-packages (from statsmodels) (1.0.1)\n",
            "Requirement already satisfied: wheel<1.0,>=0.23.0 in /usr/local/lib/python3.12/dist-packages (from astunparse>=1.6.0->tensorflow) (0.45.1)\n",
            "Requirement already satisfied: click in /usr/local/lib/python3.12/dist-packages (from osam>=0.2.4->labelme) (8.2.1)\n",
            "Requirement already satisfied: gdown in /usr/local/lib/python3.12/dist-packages (from osam>=0.2.4->labelme) (5.2.0)\n",
            "Requirement already satisfied: onnxruntime!=1.16.0,!=1.20.0,!=1.20.1,>=1.14.1 in /usr/local/lib/python3.12/dist-packages (from osam>=0.2.4->labelme) (1.22.1)\n",
            "Requirement already satisfied: pydantic in /usr/local/lib/python3.12/dist-packages (from osam>=0.2.4->labelme) (2.11.7)\n",
            "Requirement already satisfied: PyQt5-sip<13,>=12.15 in /usr/local/lib/python3.12/dist-packages (from pyqt5>=5.14.0->labelme) (12.17.0)\n",
            "Requirement already satisfied: charset_normalizer<4,>=2 in /usr/local/lib/python3.12/dist-packages (from requests<3,>=2.21.0->tensorflow) (3.4.3)\n",
            "Requirement already satisfied: idna<4,>=2.5 in /usr/local/lib/python3.12/dist-packages (from requests<3,>=2.21.0->tensorflow) (3.10)\n",
            "Requirement already satisfied: urllib3<3,>=1.21.1 in /usr/local/lib/python3.12/dist-packages (from requests<3,>=2.21.0->tensorflow) (2.5.0)\n",
            "Requirement already satisfied: certifi>=2017.4.17 in /usr/local/lib/python3.12/dist-packages (from requests<3,>=2.21.0->tensorflow) (2025.8.3)\n",
            "Requirement already satisfied: mpmath<1.4,>=1.1.0 in /usr/local/lib/python3.12/dist-packages (from sympy>=1.13.3->torch) (1.3.0)\n",
            "Requirement already satisfied: markdown>=2.6.8 in /usr/local/lib/python3.12/dist-packages (from tensorboard~=2.19.0->tensorflow) (3.9)\n",
            "Requirement already satisfied: tensorboard-data-server<0.8.0,>=0.7.0 in /usr/local/lib/python3.12/dist-packages (from tensorboard~=2.19.0->tensorflow) (0.7.2)\n",
            "Requirement already satisfied: werkzeug>=1.0.1 in /usr/local/lib/python3.12/dist-packages (from tensorboard~=2.19.0->tensorflow) (3.1.3)\n",
            "Requirement already satisfied: MarkupSafe>=2.0 in /usr/local/lib/python3.12/dist-packages (from jinja2->torch) (3.0.2)\n",
            "Requirement already satisfied: markdown-it-py>=2.2.0 in /usr/local/lib/python3.12/dist-packages (from rich->keras) (4.0.0)\n",
            "Requirement already satisfied: pygments<3.0.0,>=2.13.0 in /usr/local/lib/python3.12/dist-packages (from rich->keras) (2.19.2)\n",
            "Requirement already satisfied: imageio!=2.35.0,>=2.33 in /usr/local/lib/python3.12/dist-packages (from scikit-image->labelme) (2.37.0)\n",
            "Requirement already satisfied: tifffile>=2022.8.12 in /usr/local/lib/python3.12/dist-packages (from scikit-image->labelme) (2025.8.28)\n",
            "Requirement already satisfied: lazy-loader>=0.4 in /usr/local/lib/python3.12/dist-packages (from scikit-image->labelme) (0.4)\n",
            "Requirement already satisfied: mdurl~=0.1 in /usr/local/lib/python3.12/dist-packages (from markdown-it-py>=2.2.0->rich->keras) (0.1.2)\n",
            "Requirement already satisfied: coloredlogs in /usr/local/lib/python3.12/dist-packages (from onnxruntime!=1.16.0,!=1.20.0,!=1.20.1,>=1.14.1->osam>=0.2.4->labelme) (15.0.1)\n",
            "Requirement already satisfied: beautifulsoup4 in /usr/local/lib/python3.12/dist-packages (from gdown->osam>=0.2.4->labelme) (4.13.5)\n",
            "Requirement already satisfied: tqdm in /usr/local/lib/python3.12/dist-packages (from gdown->osam>=0.2.4->labelme) (4.67.1)\n",
            "Requirement already satisfied: annotated-types>=0.6.0 in /usr/local/lib/python3.12/dist-packages (from pydantic->osam>=0.2.4->labelme) (0.7.0)\n",
            "Requirement already satisfied: pydantic-core==2.33.2 in /usr/local/lib/python3.12/dist-packages (from pydantic->osam>=0.2.4->labelme) (2.33.2)\n",
            "Requirement already satisfied: typing-inspection>=0.4.0 in /usr/local/lib/python3.12/dist-packages (from pydantic->osam>=0.2.4->labelme) (0.4.1)\n",
            "Requirement already satisfied: soupsieve>1.2 in /usr/local/lib/python3.12/dist-packages (from beautifulsoup4->gdown->osam>=0.2.4->labelme) (2.8)\n",
            "Requirement already satisfied: humanfriendly>=9.1 in /usr/local/lib/python3.12/dist-packages (from coloredlogs->onnxruntime!=1.16.0,!=1.20.0,!=1.20.1,>=1.14.1->osam>=0.2.4->labelme) (10.0)\n",
            "Requirement already satisfied: PySocks!=1.5.7,>=1.5.6 in /usr/local/lib/python3.12/dist-packages (from requests[socks]->gdown->osam>=0.2.4->labelme) (1.7.1)\n"
          ]
        }
      ],
      "source": [
        "!pip install numpy pandas matplotlib seaborn scikit-learn tensorflow keras torch opencv-python labelme statsmodels scipy missingno"
      ]
    },
    {
      "cell_type": "code",
      "source": [
        "import numpy as np\n",
        "import pandas as pd\n",
        "import matplotlib.pyplot as plt\n",
        "from scipy.signal import find_peaks\n",
        "from scipy import interpolate\n",
        "\n",
        "import os\n",
        "import warnings"
      ],
      "metadata": {
        "id": "P8-G-6so5yKA"
      },
      "execution_count": 48,
      "outputs": []
    },
    {
      "cell_type": "code",
      "source": [
        "warnings.filterwarnings('ignore')\n",
        "\n",
        "pd.options.display.max_columns = None\n",
        "pd.options.display.max_rows = None\n",
        "pd.options.display.float_format = '{:.7f}'.format"
      ],
      "metadata": {
        "id": "QFRI6n9f53HF"
      },
      "execution_count": 49,
      "outputs": []
    },
    {
      "cell_type": "markdown",
      "source": [
        "# **Collecting Data**"
      ],
      "metadata": {
        "id": "Ws7fCw9T65Oi"
      }
    },
    {
      "cell_type": "markdown",
      "source": [
        "**Define columns, file to read and what class should be used for that file**\n",
        "* Since my student ID ends with 9, thus I will be doing L5 (x,y,z) and T12 (x,y,z)\n",
        "* Boning dataset will have a class of '0'\n",
        "* Slicing dataset will have a class of '1'\n",
        "* There will also be a 'Frame' column as well"
      ],
      "metadata": {
        "id": "BzVg-palAWEf"
      }
    },
    {
      "cell_type": "code",
      "source": [
        "contents_to_read = {\n",
        "    'boning': {\n",
        "        'fName': 'ampc2/Boning.csv',\n",
        "        'class': 0\n",
        "    },\n",
        "    'slicing': {\n",
        "        'fName': 'ampc2/Slicing.csv',\n",
        "        'class': 1\n",
        "    }\n",
        "}\n",
        "columns_to_read = [f'L5 {k}' for k in ['x', 'y', 'z']] + [f'T12 {k}' for k in ['x', 'y', 'z']] + ['Frame']"
      ],
      "metadata": {
        "id": "9M3WU2hM55yV"
      },
      "execution_count": 50,
      "outputs": []
    },
    {
      "cell_type": "code",
      "source": [
        "boning_df = pd.read_csv(contents_to_read['boning']['fName'], usecols=columns_to_read)\n",
        "boning_df['class'] = contents_to_read['boning']['class']\n",
        "slicing_df = pd.read_csv(contents_to_read['slicing']['fName'], usecols=columns_to_read)\n",
        "slicing_df['class'] = contents_to_read['slicing']['class']"
      ],
      "metadata": {
        "id": "sOehc2ia9HSk"
      },
      "execution_count": 51,
      "outputs": []
    },
    {
      "cell_type": "code",
      "source": [
        "print(f\"Shape of boning: {boning_df.shape}\")\n",
        "print(f\"Shape of slicing: {slicing_df.shape}\")"
      ],
      "metadata": {
        "colab": {
          "base_uri": "https://localhost:8080/"
        },
        "id": "4CFv1Mw69u84",
        "outputId": "4eaddcc2-7198-4272-e643-10252c57e86e"
      },
      "execution_count": 52,
      "outputs": [
        {
          "output_type": "stream",
          "name": "stdout",
          "text": [
            "Shape of boning: (54180, 8)\n",
            "Shape of slicing: (17880, 8)\n"
          ]
        }
      ]
    },
    {
      "cell_type": "markdown",
      "source": [
        "Combine 2 dataset and save it"
      ],
      "metadata": {
        "id": "bvpc78uS-HYm"
      }
    },
    {
      "cell_type": "code",
      "source": [
        "concatenated_df = pd.concat([boning_df, slicing_df], ignore_index=True)\n",
        "concatenated_df.to_csv(\"new_processed_data/combined_data.csv\", index=False)\n",
        "concatenated_df.info()"
      ],
      "metadata": {
        "colab": {
          "base_uri": "https://localhost:8080/"
        },
        "id": "-LjexHIn9ygW",
        "outputId": "4a35188f-03f5-4d89-f9be-a2cc5f5be3cd"
      },
      "execution_count": 53,
      "outputs": [
        {
          "output_type": "stream",
          "name": "stdout",
          "text": [
            "<class 'pandas.core.frame.DataFrame'>\n",
            "RangeIndex: 72060 entries, 0 to 72059\n",
            "Data columns (total 8 columns):\n",
            " #   Column  Non-Null Count  Dtype  \n",
            "---  ------  --------------  -----  \n",
            " 0   Frame   72060 non-null  int64  \n",
            " 1   L5 x    72060 non-null  float64\n",
            " 2   L5 y    72060 non-null  float64\n",
            " 3   L5 z    72060 non-null  float64\n",
            " 4   T12 x   72060 non-null  float64\n",
            " 5   T12 y   72060 non-null  float64\n",
            " 6   T12 z   72060 non-null  float64\n",
            " 7   class   72060 non-null  int64  \n",
            "dtypes: float64(6), int64(2)\n",
            "memory usage: 4.4 MB\n"
          ]
        }
      ]
    },
    {
      "cell_type": "markdown",
      "source": [
        "# **Creating Composite Columns**"
      ],
      "metadata": {
        "id": "-u9ZuQca-fgl"
      }
    },
    {
      "cell_type": "code",
      "source": [
        "concatenated_df.head()"
      ],
      "metadata": {
        "colab": {
          "base_uri": "https://localhost:8080/",
          "height": 206
        },
        "id": "bnlspyv8-dAx",
        "outputId": "ad236f91-2bc7-4911-ba1e-b68b55ede8fd"
      },
      "execution_count": 54,
      "outputs": [
        {
          "output_type": "execute_result",
          "data": {
            "text/plain": [
              "   Frame       L5 x       L5 y       L5 z      T12 x      T12 y      T12 z  \\\n",
              "0      0  0.0526543  0.0393860 -0.0770018  0.0994581  0.0743958 -0.1454479   \n",
              "1      1 -0.0535254  0.1172787  0.1502453 -0.1035941  0.2266579  0.2843477   \n",
              "2      2  0.0739294 -0.0223806  0.0327013  0.1371887 -0.0367908  0.0617175   \n",
              "3      3 -0.0372945 -0.0099753  0.0158462 -0.0281503  0.0172390  0.0612578   \n",
              "4      4  0.0917448 -0.0144044  0.0541684  0.1729826 -0.0230234  0.1022738   \n",
              "\n",
              "   class  \n",
              "0      0  \n",
              "1      0  \n",
              "2      0  \n",
              "3      0  \n",
              "4      0  "
            ],
            "text/html": [
              "\n",
              "  <div id=\"df-f8acfc54-74aa-4794-ae82-ba5303b0e38b\" class=\"colab-df-container\">\n",
              "    <div>\n",
              "<style scoped>\n",
              "    .dataframe tbody tr th:only-of-type {\n",
              "        vertical-align: middle;\n",
              "    }\n",
              "\n",
              "    .dataframe tbody tr th {\n",
              "        vertical-align: top;\n",
              "    }\n",
              "\n",
              "    .dataframe thead th {\n",
              "        text-align: right;\n",
              "    }\n",
              "</style>\n",
              "<table border=\"1\" class=\"dataframe\">\n",
              "  <thead>\n",
              "    <tr style=\"text-align: right;\">\n",
              "      <th></th>\n",
              "      <th>Frame</th>\n",
              "      <th>L5 x</th>\n",
              "      <th>L5 y</th>\n",
              "      <th>L5 z</th>\n",
              "      <th>T12 x</th>\n",
              "      <th>T12 y</th>\n",
              "      <th>T12 z</th>\n",
              "      <th>class</th>\n",
              "    </tr>\n",
              "  </thead>\n",
              "  <tbody>\n",
              "    <tr>\n",
              "      <th>0</th>\n",
              "      <td>0</td>\n",
              "      <td>0.0526543</td>\n",
              "      <td>0.0393860</td>\n",
              "      <td>-0.0770018</td>\n",
              "      <td>0.0994581</td>\n",
              "      <td>0.0743958</td>\n",
              "      <td>-0.1454479</td>\n",
              "      <td>0</td>\n",
              "    </tr>\n",
              "    <tr>\n",
              "      <th>1</th>\n",
              "      <td>1</td>\n",
              "      <td>-0.0535254</td>\n",
              "      <td>0.1172787</td>\n",
              "      <td>0.1502453</td>\n",
              "      <td>-0.1035941</td>\n",
              "      <td>0.2266579</td>\n",
              "      <td>0.2843477</td>\n",
              "      <td>0</td>\n",
              "    </tr>\n",
              "    <tr>\n",
              "      <th>2</th>\n",
              "      <td>2</td>\n",
              "      <td>0.0739294</td>\n",
              "      <td>-0.0223806</td>\n",
              "      <td>0.0327013</td>\n",
              "      <td>0.1371887</td>\n",
              "      <td>-0.0367908</td>\n",
              "      <td>0.0617175</td>\n",
              "      <td>0</td>\n",
              "    </tr>\n",
              "    <tr>\n",
              "      <th>3</th>\n",
              "      <td>3</td>\n",
              "      <td>-0.0372945</td>\n",
              "      <td>-0.0099753</td>\n",
              "      <td>0.0158462</td>\n",
              "      <td>-0.0281503</td>\n",
              "      <td>0.0172390</td>\n",
              "      <td>0.0612578</td>\n",
              "      <td>0</td>\n",
              "    </tr>\n",
              "    <tr>\n",
              "      <th>4</th>\n",
              "      <td>4</td>\n",
              "      <td>0.0917448</td>\n",
              "      <td>-0.0144044</td>\n",
              "      <td>0.0541684</td>\n",
              "      <td>0.1729826</td>\n",
              "      <td>-0.0230234</td>\n",
              "      <td>0.1022738</td>\n",
              "      <td>0</td>\n",
              "    </tr>\n",
              "  </tbody>\n",
              "</table>\n",
              "</div>\n",
              "    <div class=\"colab-df-buttons\">\n",
              "\n",
              "  <div class=\"colab-df-container\">\n",
              "    <button class=\"colab-df-convert\" onclick=\"convertToInteractive('df-f8acfc54-74aa-4794-ae82-ba5303b0e38b')\"\n",
              "            title=\"Convert this dataframe to an interactive table.\"\n",
              "            style=\"display:none;\">\n",
              "\n",
              "  <svg xmlns=\"http://www.w3.org/2000/svg\" height=\"24px\" viewBox=\"0 -960 960 960\">\n",
              "    <path d=\"M120-120v-720h720v720H120Zm60-500h600v-160H180v160Zm220 220h160v-160H400v160Zm0 220h160v-160H400v160ZM180-400h160v-160H180v160Zm440 0h160v-160H620v160ZM180-180h160v-160H180v160Zm440 0h160v-160H620v160Z\"/>\n",
              "  </svg>\n",
              "    </button>\n",
              "\n",
              "  <style>\n",
              "    .colab-df-container {\n",
              "      display:flex;\n",
              "      gap: 12px;\n",
              "    }\n",
              "\n",
              "    .colab-df-convert {\n",
              "      background-color: #E8F0FE;\n",
              "      border: none;\n",
              "      border-radius: 50%;\n",
              "      cursor: pointer;\n",
              "      display: none;\n",
              "      fill: #1967D2;\n",
              "      height: 32px;\n",
              "      padding: 0 0 0 0;\n",
              "      width: 32px;\n",
              "    }\n",
              "\n",
              "    .colab-df-convert:hover {\n",
              "      background-color: #E2EBFA;\n",
              "      box-shadow: 0px 1px 2px rgba(60, 64, 67, 0.3), 0px 1px 3px 1px rgba(60, 64, 67, 0.15);\n",
              "      fill: #174EA6;\n",
              "    }\n",
              "\n",
              "    .colab-df-buttons div {\n",
              "      margin-bottom: 4px;\n",
              "    }\n",
              "\n",
              "    [theme=dark] .colab-df-convert {\n",
              "      background-color: #3B4455;\n",
              "      fill: #D2E3FC;\n",
              "    }\n",
              "\n",
              "    [theme=dark] .colab-df-convert:hover {\n",
              "      background-color: #434B5C;\n",
              "      box-shadow: 0px 1px 3px 1px rgba(0, 0, 0, 0.15);\n",
              "      filter: drop-shadow(0px 1px 2px rgba(0, 0, 0, 0.3));\n",
              "      fill: #FFFFFF;\n",
              "    }\n",
              "  </style>\n",
              "\n",
              "    <script>\n",
              "      const buttonEl =\n",
              "        document.querySelector('#df-f8acfc54-74aa-4794-ae82-ba5303b0e38b button.colab-df-convert');\n",
              "      buttonEl.style.display =\n",
              "        google.colab.kernel.accessAllowed ? 'block' : 'none';\n",
              "\n",
              "      async function convertToInteractive(key) {\n",
              "        const element = document.querySelector('#df-f8acfc54-74aa-4794-ae82-ba5303b0e38b');\n",
              "        const dataTable =\n",
              "          await google.colab.kernel.invokeFunction('convertToInteractive',\n",
              "                                                    [key], {});\n",
              "        if (!dataTable) return;\n",
              "\n",
              "        const docLinkHtml = 'Like what you see? Visit the ' +\n",
              "          '<a target=\"_blank\" href=https://colab.research.google.com/notebooks/data_table.ipynb>data table notebook</a>'\n",
              "          + ' to learn more about interactive tables.';\n",
              "        element.innerHTML = '';\n",
              "        dataTable['output_type'] = 'display_data';\n",
              "        await google.colab.output.renderOutput(dataTable, element);\n",
              "        const docLink = document.createElement('div');\n",
              "        docLink.innerHTML = docLinkHtml;\n",
              "        element.appendChild(docLink);\n",
              "      }\n",
              "    </script>\n",
              "  </div>\n",
              "\n",
              "\n",
              "    <div id=\"df-049404c1-8e14-4008-aecc-65d6a0f81df5\">\n",
              "      <button class=\"colab-df-quickchart\" onclick=\"quickchart('df-049404c1-8e14-4008-aecc-65d6a0f81df5')\"\n",
              "                title=\"Suggest charts\"\n",
              "                style=\"display:none;\">\n",
              "\n",
              "<svg xmlns=\"http://www.w3.org/2000/svg\" height=\"24px\"viewBox=\"0 0 24 24\"\n",
              "     width=\"24px\">\n",
              "    <g>\n",
              "        <path d=\"M19 3H5c-1.1 0-2 .9-2 2v14c0 1.1.9 2 2 2h14c1.1 0 2-.9 2-2V5c0-1.1-.9-2-2-2zM9 17H7v-7h2v7zm4 0h-2V7h2v10zm4 0h-2v-4h2v4z\"/>\n",
              "    </g>\n",
              "</svg>\n",
              "      </button>\n",
              "\n",
              "<style>\n",
              "  .colab-df-quickchart {\n",
              "      --bg-color: #E8F0FE;\n",
              "      --fill-color: #1967D2;\n",
              "      --hover-bg-color: #E2EBFA;\n",
              "      --hover-fill-color: #174EA6;\n",
              "      --disabled-fill-color: #AAA;\n",
              "      --disabled-bg-color: #DDD;\n",
              "  }\n",
              "\n",
              "  [theme=dark] .colab-df-quickchart {\n",
              "      --bg-color: #3B4455;\n",
              "      --fill-color: #D2E3FC;\n",
              "      --hover-bg-color: #434B5C;\n",
              "      --hover-fill-color: #FFFFFF;\n",
              "      --disabled-bg-color: #3B4455;\n",
              "      --disabled-fill-color: #666;\n",
              "  }\n",
              "\n",
              "  .colab-df-quickchart {\n",
              "    background-color: var(--bg-color);\n",
              "    border: none;\n",
              "    border-radius: 50%;\n",
              "    cursor: pointer;\n",
              "    display: none;\n",
              "    fill: var(--fill-color);\n",
              "    height: 32px;\n",
              "    padding: 0;\n",
              "    width: 32px;\n",
              "  }\n",
              "\n",
              "  .colab-df-quickchart:hover {\n",
              "    background-color: var(--hover-bg-color);\n",
              "    box-shadow: 0 1px 2px rgba(60, 64, 67, 0.3), 0 1px 3px 1px rgba(60, 64, 67, 0.15);\n",
              "    fill: var(--button-hover-fill-color);\n",
              "  }\n",
              "\n",
              "  .colab-df-quickchart-complete:disabled,\n",
              "  .colab-df-quickchart-complete:disabled:hover {\n",
              "    background-color: var(--disabled-bg-color);\n",
              "    fill: var(--disabled-fill-color);\n",
              "    box-shadow: none;\n",
              "  }\n",
              "\n",
              "  .colab-df-spinner {\n",
              "    border: 2px solid var(--fill-color);\n",
              "    border-color: transparent;\n",
              "    border-bottom-color: var(--fill-color);\n",
              "    animation:\n",
              "      spin 1s steps(1) infinite;\n",
              "  }\n",
              "\n",
              "  @keyframes spin {\n",
              "    0% {\n",
              "      border-color: transparent;\n",
              "      border-bottom-color: var(--fill-color);\n",
              "      border-left-color: var(--fill-color);\n",
              "    }\n",
              "    20% {\n",
              "      border-color: transparent;\n",
              "      border-left-color: var(--fill-color);\n",
              "      border-top-color: var(--fill-color);\n",
              "    }\n",
              "    30% {\n",
              "      border-color: transparent;\n",
              "      border-left-color: var(--fill-color);\n",
              "      border-top-color: var(--fill-color);\n",
              "      border-right-color: var(--fill-color);\n",
              "    }\n",
              "    40% {\n",
              "      border-color: transparent;\n",
              "      border-right-color: var(--fill-color);\n",
              "      border-top-color: var(--fill-color);\n",
              "    }\n",
              "    60% {\n",
              "      border-color: transparent;\n",
              "      border-right-color: var(--fill-color);\n",
              "    }\n",
              "    80% {\n",
              "      border-color: transparent;\n",
              "      border-right-color: var(--fill-color);\n",
              "      border-bottom-color: var(--fill-color);\n",
              "    }\n",
              "    90% {\n",
              "      border-color: transparent;\n",
              "      border-bottom-color: var(--fill-color);\n",
              "    }\n",
              "  }\n",
              "</style>\n",
              "\n",
              "      <script>\n",
              "        async function quickchart(key) {\n",
              "          const quickchartButtonEl =\n",
              "            document.querySelector('#' + key + ' button');\n",
              "          quickchartButtonEl.disabled = true;  // To prevent multiple clicks.\n",
              "          quickchartButtonEl.classList.add('colab-df-spinner');\n",
              "          try {\n",
              "            const charts = await google.colab.kernel.invokeFunction(\n",
              "                'suggestCharts', [key], {});\n",
              "          } catch (error) {\n",
              "            console.error('Error during call to suggestCharts:', error);\n",
              "          }\n",
              "          quickchartButtonEl.classList.remove('colab-df-spinner');\n",
              "          quickchartButtonEl.classList.add('colab-df-quickchart-complete');\n",
              "        }\n",
              "        (() => {\n",
              "          let quickchartButtonEl =\n",
              "            document.querySelector('#df-049404c1-8e14-4008-aecc-65d6a0f81df5 button');\n",
              "          quickchartButtonEl.style.display =\n",
              "            google.colab.kernel.accessAllowed ? 'block' : 'none';\n",
              "        })();\n",
              "      </script>\n",
              "    </div>\n",
              "\n",
              "    </div>\n",
              "  </div>\n"
            ],
            "application/vnd.google.colaboratory.intrinsic+json": {
              "type": "dataframe",
              "variable_name": "concatenated_df",
              "summary": "{\n  \"name\": \"concatenated_df\",\n  \"rows\": 72060,\n  \"fields\": [\n    {\n      \"column\": \"Frame\",\n      \"properties\": {\n        \"dtype\": \"number\",\n        \"std\": 15874,\n        \"min\": 0,\n        \"max\": 54179,\n        \"num_unique_values\": 54180,\n        \"samples\": [\n          49252,\n          36162,\n          49716\n        ],\n        \"semantic_type\": \"\",\n        \"description\": \"\"\n      }\n    },\n    {\n      \"column\": \"L5 x\",\n      \"properties\": {\n        \"dtype\": \"number\",\n        \"std\": 0.6079552180751359,\n        \"min\": -9.529681273,\n        \"max\": 14.9503575,\n        \"num_unique_values\": 72059,\n        \"samples\": [\n          -0.016110643,\n          -0.082184149,\n          -0.162943432\n        ],\n        \"semantic_type\": \"\",\n        \"description\": \"\"\n      }\n    },\n    {\n      \"column\": \"L5 y\",\n      \"properties\": {\n        \"dtype\": \"number\",\n        \"std\": 0.5534108939632343,\n        \"min\": -11.05033985,\n        \"max\": 9.819392299,\n        \"num_unique_values\": 72056,\n        \"samples\": [\n          -0.314336609,\n          0.047819589,\n          -0.204825014\n        ],\n        \"semantic_type\": \"\",\n        \"description\": \"\"\n      }\n    },\n    {\n      \"column\": \"L5 z\",\n      \"properties\": {\n        \"dtype\": \"number\",\n        \"std\": 0.41903630372029177,\n        \"min\": -5.469383304,\n        \"max\": 8.911717046,\n        \"num_unique_values\": 72059,\n        \"samples\": [\n          0.198814623,\n          0.008485195,\n          -0.166788743\n        ],\n        \"semantic_type\": \"\",\n        \"description\": \"\"\n      }\n    },\n    {\n      \"column\": \"T12 x\",\n      \"properties\": {\n        \"dtype\": \"number\",\n        \"std\": 1.1349638299109244,\n        \"min\": -17.96157321,\n        \"max\": 28.23402339,\n        \"num_unique_values\": 72059,\n        \"samples\": [\n          -0.030415903,\n          -0.202185999,\n          -0.302078886\n        ],\n        \"semantic_type\": \"\",\n        \"description\": \"\"\n      }\n    },\n    {\n      \"column\": \"T12 y\",\n      \"properties\": {\n        \"dtype\": \"number\",\n        \"std\": 1.0107866056925718,\n        \"min\": -20.80335186,\n        \"max\": 18.5248729,\n        \"num_unique_values\": 72060,\n        \"samples\": [\n          -0.272612403,\n          -0.037828935,\n          0.133348776\n        ],\n        \"semantic_type\": \"\",\n        \"description\": \"\"\n      }\n    },\n    {\n      \"column\": \"T12 z\",\n      \"properties\": {\n        \"dtype\": \"number\",\n        \"std\": 0.7736524839727202,\n        \"min\": -10.22548842,\n        \"max\": 13.72854873,\n        \"num_unique_values\": 72058,\n        \"samples\": [\n          -0.054357532,\n          -0.124226509,\n          -0.09709262\n        ],\n        \"semantic_type\": \"\",\n        \"description\": \"\"\n      }\n    },\n    {\n      \"column\": \"class\",\n      \"properties\": {\n        \"dtype\": \"number\",\n        \"std\": 0,\n        \"min\": 0,\n        \"max\": 1,\n        \"num_unique_values\": 2,\n        \"samples\": [\n          1,\n          0\n        ],\n        \"semantic_type\": \"\",\n        \"description\": \"\"\n      }\n    }\n  ]\n}"
            }
          },
          "metadata": {},
          "execution_count": 54
        }
      ]
    },
    {
      "cell_type": "markdown",
      "source": [
        "Calculating Root-Mean-Square value, Roll and Pitch"
      ],
      "metadata": {
        "id": "Hfu1FKfX_jPk"
      }
    },
    {
      "cell_type": "code",
      "source": [
        "def calc_rmsq_for_cols(df: pd.DataFrame, cols: list[str]):\n",
        "  return np.sqrt(np.mean(df[cols] ** 2, axis=1))\n",
        "\n",
        "def calc_roll_for_col(df: pd.DataFrame, col: str):\n",
        "  return 180 * np.arctan2(df[f'{col} y'], np.sqrt(df[f'{col} x'] ** 2 + df[f'{col} z'] ** 2)) / np.pi\n",
        "\n",
        "def calc_pitch_for_col(df: pd.DataFrame, col: str):\n",
        "  return 180 * np.arctan2(df[f'{col} x'], np.sqrt(df[f'{col} y'] ** 2 + df[f'{col} z'] ** 2)) / np.pi"
      ],
      "metadata": {
        "id": "CI6LppL4_JJh"
      },
      "execution_count": 55,
      "outputs": []
    },
    {
      "cell_type": "markdown",
      "source": [
        "Calculate L5 composite features"
      ],
      "metadata": {
        "id": "7CcC4gL-ALiR"
      }
    },
    {
      "cell_type": "code",
      "source": [
        "concatenated_df['l5_xy_rmsq'] = calc_rmsq_for_cols(concatenated_df, ['L5 x', 'L5 y'])\n",
        "concatenated_df['l5_yz_rmsq'] = calc_rmsq_for_cols(concatenated_df, ['L5 y', 'L5 z'])\n",
        "concatenated_df['l5_xz_rmsq'] = calc_rmsq_for_cols(concatenated_df, ['L5 x', 'L5 z'])\n",
        "concatenated_df['l5_xyz_rmsq'] = calc_rmsq_for_cols(concatenated_df, ['L5 x', 'L5 y', 'L5 z'])\n",
        "\n",
        "concatenated_df['l5_roll'] = calc_roll_for_col(concatenated_df, 'L5')\n",
        "concatenated_df['l5_pitch'] = calc_pitch_for_col(concatenated_df, 'L5')"
      ],
      "metadata": {
        "id": "82rug2wwALNE"
      },
      "execution_count": 56,
      "outputs": []
    },
    {
      "cell_type": "markdown",
      "source": [
        "Calculate T12 composite features"
      ],
      "metadata": {
        "id": "U1MWI-FYCZx9"
      }
    },
    {
      "cell_type": "code",
      "source": [
        "concatenated_df['t12_xy_rmsq'] = calc_rmsq_for_cols(concatenated_df, ['T12 x', 'T12 y'])\n",
        "concatenated_df['t12_yz_rmsq'] = calc_rmsq_for_cols(concatenated_df, ['T12 y', 'T12 z'])\n",
        "concatenated_df['t12_xz_rmsq'] = calc_rmsq_for_cols(concatenated_df, ['T12 x', 'T12 z'])\n",
        "concatenated_df['t12_xyz_rmsq'] = calc_rmsq_for_cols(concatenated_df, ['T12 x', 'T12 y', 'T12 z'])\n",
        "\n",
        "concatenated_df['t12_roll'] = calc_roll_for_col(concatenated_df, 'T12')\n",
        "concatenated_df['t12_pitch'] = calc_pitch_for_col(concatenated_df, 'T12')"
      ],
      "metadata": {
        "id": "MnaGs023CZea"
      },
      "execution_count": 57,
      "outputs": []
    },
    {
      "cell_type": "code",
      "source": [
        "concatenated_df.info()"
      ],
      "metadata": {
        "colab": {
          "base_uri": "https://localhost:8080/"
        },
        "id": "qRGVYbzeC8LV",
        "outputId": "411a01e1-892f-43fd-aaa2-c0075c62b949"
      },
      "execution_count": 58,
      "outputs": [
        {
          "output_type": "stream",
          "name": "stdout",
          "text": [
            "<class 'pandas.core.frame.DataFrame'>\n",
            "RangeIndex: 72060 entries, 0 to 72059\n",
            "Data columns (total 20 columns):\n",
            " #   Column        Non-Null Count  Dtype  \n",
            "---  ------        --------------  -----  \n",
            " 0   Frame         72060 non-null  int64  \n",
            " 1   L5 x          72060 non-null  float64\n",
            " 2   L5 y          72060 non-null  float64\n",
            " 3   L5 z          72060 non-null  float64\n",
            " 4   T12 x         72060 non-null  float64\n",
            " 5   T12 y         72060 non-null  float64\n",
            " 6   T12 z         72060 non-null  float64\n",
            " 7   class         72060 non-null  int64  \n",
            " 8   l5_xy_rmsq    72060 non-null  float64\n",
            " 9   l5_yz_rmsq    72060 non-null  float64\n",
            " 10  l5_xz_rmsq    72060 non-null  float64\n",
            " 11  l5_xyz_rmsq   72060 non-null  float64\n",
            " 12  l5_roll       72060 non-null  float64\n",
            " 13  l5_pitch      72060 non-null  float64\n",
            " 14  t12_xy_rmsq   72060 non-null  float64\n",
            " 15  t12_yz_rmsq   72060 non-null  float64\n",
            " 16  t12_xz_rmsq   72060 non-null  float64\n",
            " 17  t12_xyz_rmsq  72060 non-null  float64\n",
            " 18  t12_roll      72060 non-null  float64\n",
            " 19  t12_pitch     72060 non-null  float64\n",
            "dtypes: float64(18), int64(2)\n",
            "memory usage: 11.0 MB\n"
          ]
        }
      ]
    },
    {
      "cell_type": "code",
      "source": [
        "concatenated_df.to_csv(\"new_processed_data/composited_data.csv\", index=False)\n",
        "concatenated_df.head()"
      ],
      "metadata": {
        "colab": {
          "base_uri": "https://localhost:8080/",
          "height": 226
        },
        "id": "my_91dr0PPHu",
        "outputId": "da3ff008-eb0c-43b4-94d0-09c6cc6b2a22"
      },
      "execution_count": 59,
      "outputs": [
        {
          "output_type": "execute_result",
          "data": {
            "text/plain": [
              "   Frame       L5 x       L5 y       L5 z      T12 x      T12 y      T12 z  \\\n",
              "0      0  0.0526543  0.0393860 -0.0770018  0.0994581  0.0743958 -0.1454479   \n",
              "1      1 -0.0535254  0.1172787  0.1502453 -0.1035941  0.2266579  0.2843477   \n",
              "2      2  0.0739294 -0.0223806  0.0327013  0.1371887 -0.0367908  0.0617175   \n",
              "3      3 -0.0372945 -0.0099753  0.0158462 -0.0281503  0.0172390  0.0612578   \n",
              "4      4  0.0917448 -0.0144044  0.0541684  0.1729826 -0.0230234  0.1022738   \n",
              "\n",
              "   class  l5_xy_rmsq  l5_yz_rmsq  l5_xz_rmsq  l5_xyz_rmsq     l5_roll  \\\n",
              "0      0   0.0464959   0.0611577   0.0659612    0.0584608  22.8904439   \n",
              "1      0   0.0911572   0.1347738   0.1127799    0.1142992  36.3275373   \n",
              "2      0   0.0546189   0.0280202   0.0571618    0.0484280 -15.4749671   \n",
              "3      0   0.0272982   0.0132402   0.0286529    0.0240935 -13.8296942   \n",
              "4      0   0.0656681   0.0396340   0.0753370    0.0620721  -7.6996265   \n",
              "\n",
              "     l5_pitch  t12_xy_rmsq  t12_yz_rmsq  t12_xz_rmsq  t12_xyz_rmsq  \\\n",
              "0  31.3326261    0.0878255    0.1155202    0.1245933     0.1104260   \n",
              "1 -15.6862032    0.1762180    0.2571258    0.2139922     0.2182958   \n",
              "2  61.8084519    0.1004348    0.0508065    0.1063715     0.0894117   \n",
              "3 -63.3400863    0.0233412    0.0449984    0.0476706     0.0401752   \n",
              "4  58.5774103    0.1233958    0.0741283    0.1420966     0.1167804   \n",
              "\n",
              "     t12_roll   t12_pitch  \n",
              "0  22.8904439  31.3326265  \n",
              "1  36.8316995 -15.9016284  \n",
              "2 -13.7429105  62.3571236  \n",
              "3  14.3437502 -23.8624959  \n",
              "4  -6.5358750  58.7827535  "
            ],
            "text/html": [
              "\n",
              "  <div id=\"df-bd500cf5-51c7-41d3-b3ca-35d059478903\" class=\"colab-df-container\">\n",
              "    <div>\n",
              "<style scoped>\n",
              "    .dataframe tbody tr th:only-of-type {\n",
              "        vertical-align: middle;\n",
              "    }\n",
              "\n",
              "    .dataframe tbody tr th {\n",
              "        vertical-align: top;\n",
              "    }\n",
              "\n",
              "    .dataframe thead th {\n",
              "        text-align: right;\n",
              "    }\n",
              "</style>\n",
              "<table border=\"1\" class=\"dataframe\">\n",
              "  <thead>\n",
              "    <tr style=\"text-align: right;\">\n",
              "      <th></th>\n",
              "      <th>Frame</th>\n",
              "      <th>L5 x</th>\n",
              "      <th>L5 y</th>\n",
              "      <th>L5 z</th>\n",
              "      <th>T12 x</th>\n",
              "      <th>T12 y</th>\n",
              "      <th>T12 z</th>\n",
              "      <th>class</th>\n",
              "      <th>l5_xy_rmsq</th>\n",
              "      <th>l5_yz_rmsq</th>\n",
              "      <th>l5_xz_rmsq</th>\n",
              "      <th>l5_xyz_rmsq</th>\n",
              "      <th>l5_roll</th>\n",
              "      <th>l5_pitch</th>\n",
              "      <th>t12_xy_rmsq</th>\n",
              "      <th>t12_yz_rmsq</th>\n",
              "      <th>t12_xz_rmsq</th>\n",
              "      <th>t12_xyz_rmsq</th>\n",
              "      <th>t12_roll</th>\n",
              "      <th>t12_pitch</th>\n",
              "    </tr>\n",
              "  </thead>\n",
              "  <tbody>\n",
              "    <tr>\n",
              "      <th>0</th>\n",
              "      <td>0</td>\n",
              "      <td>0.0526543</td>\n",
              "      <td>0.0393860</td>\n",
              "      <td>-0.0770018</td>\n",
              "      <td>0.0994581</td>\n",
              "      <td>0.0743958</td>\n",
              "      <td>-0.1454479</td>\n",
              "      <td>0</td>\n",
              "      <td>0.0464959</td>\n",
              "      <td>0.0611577</td>\n",
              "      <td>0.0659612</td>\n",
              "      <td>0.0584608</td>\n",
              "      <td>22.8904439</td>\n",
              "      <td>31.3326261</td>\n",
              "      <td>0.0878255</td>\n",
              "      <td>0.1155202</td>\n",
              "      <td>0.1245933</td>\n",
              "      <td>0.1104260</td>\n",
              "      <td>22.8904439</td>\n",
              "      <td>31.3326265</td>\n",
              "    </tr>\n",
              "    <tr>\n",
              "      <th>1</th>\n",
              "      <td>1</td>\n",
              "      <td>-0.0535254</td>\n",
              "      <td>0.1172787</td>\n",
              "      <td>0.1502453</td>\n",
              "      <td>-0.1035941</td>\n",
              "      <td>0.2266579</td>\n",
              "      <td>0.2843477</td>\n",
              "      <td>0</td>\n",
              "      <td>0.0911572</td>\n",
              "      <td>0.1347738</td>\n",
              "      <td>0.1127799</td>\n",
              "      <td>0.1142992</td>\n",
              "      <td>36.3275373</td>\n",
              "      <td>-15.6862032</td>\n",
              "      <td>0.1762180</td>\n",
              "      <td>0.2571258</td>\n",
              "      <td>0.2139922</td>\n",
              "      <td>0.2182958</td>\n",
              "      <td>36.8316995</td>\n",
              "      <td>-15.9016284</td>\n",
              "    </tr>\n",
              "    <tr>\n",
              "      <th>2</th>\n",
              "      <td>2</td>\n",
              "      <td>0.0739294</td>\n",
              "      <td>-0.0223806</td>\n",
              "      <td>0.0327013</td>\n",
              "      <td>0.1371887</td>\n",
              "      <td>-0.0367908</td>\n",
              "      <td>0.0617175</td>\n",
              "      <td>0</td>\n",
              "      <td>0.0546189</td>\n",
              "      <td>0.0280202</td>\n",
              "      <td>0.0571618</td>\n",
              "      <td>0.0484280</td>\n",
              "      <td>-15.4749671</td>\n",
              "      <td>61.8084519</td>\n",
              "      <td>0.1004348</td>\n",
              "      <td>0.0508065</td>\n",
              "      <td>0.1063715</td>\n",
              "      <td>0.0894117</td>\n",
              "      <td>-13.7429105</td>\n",
              "      <td>62.3571236</td>\n",
              "    </tr>\n",
              "    <tr>\n",
              "      <th>3</th>\n",
              "      <td>3</td>\n",
              "      <td>-0.0372945</td>\n",
              "      <td>-0.0099753</td>\n",
              "      <td>0.0158462</td>\n",
              "      <td>-0.0281503</td>\n",
              "      <td>0.0172390</td>\n",
              "      <td>0.0612578</td>\n",
              "      <td>0</td>\n",
              "      <td>0.0272982</td>\n",
              "      <td>0.0132402</td>\n",
              "      <td>0.0286529</td>\n",
              "      <td>0.0240935</td>\n",
              "      <td>-13.8296942</td>\n",
              "      <td>-63.3400863</td>\n",
              "      <td>0.0233412</td>\n",
              "      <td>0.0449984</td>\n",
              "      <td>0.0476706</td>\n",
              "      <td>0.0401752</td>\n",
              "      <td>14.3437502</td>\n",
              "      <td>-23.8624959</td>\n",
              "    </tr>\n",
              "    <tr>\n",
              "      <th>4</th>\n",
              "      <td>4</td>\n",
              "      <td>0.0917448</td>\n",
              "      <td>-0.0144044</td>\n",
              "      <td>0.0541684</td>\n",
              "      <td>0.1729826</td>\n",
              "      <td>-0.0230234</td>\n",
              "      <td>0.1022738</td>\n",
              "      <td>0</td>\n",
              "      <td>0.0656681</td>\n",
              "      <td>0.0396340</td>\n",
              "      <td>0.0753370</td>\n",
              "      <td>0.0620721</td>\n",
              "      <td>-7.6996265</td>\n",
              "      <td>58.5774103</td>\n",
              "      <td>0.1233958</td>\n",
              "      <td>0.0741283</td>\n",
              "      <td>0.1420966</td>\n",
              "      <td>0.1167804</td>\n",
              "      <td>-6.5358750</td>\n",
              "      <td>58.7827535</td>\n",
              "    </tr>\n",
              "  </tbody>\n",
              "</table>\n",
              "</div>\n",
              "    <div class=\"colab-df-buttons\">\n",
              "\n",
              "  <div class=\"colab-df-container\">\n",
              "    <button class=\"colab-df-convert\" onclick=\"convertToInteractive('df-bd500cf5-51c7-41d3-b3ca-35d059478903')\"\n",
              "            title=\"Convert this dataframe to an interactive table.\"\n",
              "            style=\"display:none;\">\n",
              "\n",
              "  <svg xmlns=\"http://www.w3.org/2000/svg\" height=\"24px\" viewBox=\"0 -960 960 960\">\n",
              "    <path d=\"M120-120v-720h720v720H120Zm60-500h600v-160H180v160Zm220 220h160v-160H400v160Zm0 220h160v-160H400v160ZM180-400h160v-160H180v160Zm440 0h160v-160H620v160ZM180-180h160v-160H180v160Zm440 0h160v-160H620v160Z\"/>\n",
              "  </svg>\n",
              "    </button>\n",
              "\n",
              "  <style>\n",
              "    .colab-df-container {\n",
              "      display:flex;\n",
              "      gap: 12px;\n",
              "    }\n",
              "\n",
              "    .colab-df-convert {\n",
              "      background-color: #E8F0FE;\n",
              "      border: none;\n",
              "      border-radius: 50%;\n",
              "      cursor: pointer;\n",
              "      display: none;\n",
              "      fill: #1967D2;\n",
              "      height: 32px;\n",
              "      padding: 0 0 0 0;\n",
              "      width: 32px;\n",
              "    }\n",
              "\n",
              "    .colab-df-convert:hover {\n",
              "      background-color: #E2EBFA;\n",
              "      box-shadow: 0px 1px 2px rgba(60, 64, 67, 0.3), 0px 1px 3px 1px rgba(60, 64, 67, 0.15);\n",
              "      fill: #174EA6;\n",
              "    }\n",
              "\n",
              "    .colab-df-buttons div {\n",
              "      margin-bottom: 4px;\n",
              "    }\n",
              "\n",
              "    [theme=dark] .colab-df-convert {\n",
              "      background-color: #3B4455;\n",
              "      fill: #D2E3FC;\n",
              "    }\n",
              "\n",
              "    [theme=dark] .colab-df-convert:hover {\n",
              "      background-color: #434B5C;\n",
              "      box-shadow: 0px 1px 3px 1px rgba(0, 0, 0, 0.15);\n",
              "      filter: drop-shadow(0px 1px 2px rgba(0, 0, 0, 0.3));\n",
              "      fill: #FFFFFF;\n",
              "    }\n",
              "  </style>\n",
              "\n",
              "    <script>\n",
              "      const buttonEl =\n",
              "        document.querySelector('#df-bd500cf5-51c7-41d3-b3ca-35d059478903 button.colab-df-convert');\n",
              "      buttonEl.style.display =\n",
              "        google.colab.kernel.accessAllowed ? 'block' : 'none';\n",
              "\n",
              "      async function convertToInteractive(key) {\n",
              "        const element = document.querySelector('#df-bd500cf5-51c7-41d3-b3ca-35d059478903');\n",
              "        const dataTable =\n",
              "          await google.colab.kernel.invokeFunction('convertToInteractive',\n",
              "                                                    [key], {});\n",
              "        if (!dataTable) return;\n",
              "\n",
              "        const docLinkHtml = 'Like what you see? Visit the ' +\n",
              "          '<a target=\"_blank\" href=https://colab.research.google.com/notebooks/data_table.ipynb>data table notebook</a>'\n",
              "          + ' to learn more about interactive tables.';\n",
              "        element.innerHTML = '';\n",
              "        dataTable['output_type'] = 'display_data';\n",
              "        await google.colab.output.renderOutput(dataTable, element);\n",
              "        const docLink = document.createElement('div');\n",
              "        docLink.innerHTML = docLinkHtml;\n",
              "        element.appendChild(docLink);\n",
              "      }\n",
              "    </script>\n",
              "  </div>\n",
              "\n",
              "\n",
              "    <div id=\"df-29a27e44-6079-4321-97b7-8db2a134360c\">\n",
              "      <button class=\"colab-df-quickchart\" onclick=\"quickchart('df-29a27e44-6079-4321-97b7-8db2a134360c')\"\n",
              "                title=\"Suggest charts\"\n",
              "                style=\"display:none;\">\n",
              "\n",
              "<svg xmlns=\"http://www.w3.org/2000/svg\" height=\"24px\"viewBox=\"0 0 24 24\"\n",
              "     width=\"24px\">\n",
              "    <g>\n",
              "        <path d=\"M19 3H5c-1.1 0-2 .9-2 2v14c0 1.1.9 2 2 2h14c1.1 0 2-.9 2-2V5c0-1.1-.9-2-2-2zM9 17H7v-7h2v7zm4 0h-2V7h2v10zm4 0h-2v-4h2v4z\"/>\n",
              "    </g>\n",
              "</svg>\n",
              "      </button>\n",
              "\n",
              "<style>\n",
              "  .colab-df-quickchart {\n",
              "      --bg-color: #E8F0FE;\n",
              "      --fill-color: #1967D2;\n",
              "      --hover-bg-color: #E2EBFA;\n",
              "      --hover-fill-color: #174EA6;\n",
              "      --disabled-fill-color: #AAA;\n",
              "      --disabled-bg-color: #DDD;\n",
              "  }\n",
              "\n",
              "  [theme=dark] .colab-df-quickchart {\n",
              "      --bg-color: #3B4455;\n",
              "      --fill-color: #D2E3FC;\n",
              "      --hover-bg-color: #434B5C;\n",
              "      --hover-fill-color: #FFFFFF;\n",
              "      --disabled-bg-color: #3B4455;\n",
              "      --disabled-fill-color: #666;\n",
              "  }\n",
              "\n",
              "  .colab-df-quickchart {\n",
              "    background-color: var(--bg-color);\n",
              "    border: none;\n",
              "    border-radius: 50%;\n",
              "    cursor: pointer;\n",
              "    display: none;\n",
              "    fill: var(--fill-color);\n",
              "    height: 32px;\n",
              "    padding: 0;\n",
              "    width: 32px;\n",
              "  }\n",
              "\n",
              "  .colab-df-quickchart:hover {\n",
              "    background-color: var(--hover-bg-color);\n",
              "    box-shadow: 0 1px 2px rgba(60, 64, 67, 0.3), 0 1px 3px 1px rgba(60, 64, 67, 0.15);\n",
              "    fill: var(--button-hover-fill-color);\n",
              "  }\n",
              "\n",
              "  .colab-df-quickchart-complete:disabled,\n",
              "  .colab-df-quickchart-complete:disabled:hover {\n",
              "    background-color: var(--disabled-bg-color);\n",
              "    fill: var(--disabled-fill-color);\n",
              "    box-shadow: none;\n",
              "  }\n",
              "\n",
              "  .colab-df-spinner {\n",
              "    border: 2px solid var(--fill-color);\n",
              "    border-color: transparent;\n",
              "    border-bottom-color: var(--fill-color);\n",
              "    animation:\n",
              "      spin 1s steps(1) infinite;\n",
              "  }\n",
              "\n",
              "  @keyframes spin {\n",
              "    0% {\n",
              "      border-color: transparent;\n",
              "      border-bottom-color: var(--fill-color);\n",
              "      border-left-color: var(--fill-color);\n",
              "    }\n",
              "    20% {\n",
              "      border-color: transparent;\n",
              "      border-left-color: var(--fill-color);\n",
              "      border-top-color: var(--fill-color);\n",
              "    }\n",
              "    30% {\n",
              "      border-color: transparent;\n",
              "      border-left-color: var(--fill-color);\n",
              "      border-top-color: var(--fill-color);\n",
              "      border-right-color: var(--fill-color);\n",
              "    }\n",
              "    40% {\n",
              "      border-color: transparent;\n",
              "      border-right-color: var(--fill-color);\n",
              "      border-top-color: var(--fill-color);\n",
              "    }\n",
              "    60% {\n",
              "      border-color: transparent;\n",
              "      border-right-color: var(--fill-color);\n",
              "    }\n",
              "    80% {\n",
              "      border-color: transparent;\n",
              "      border-right-color: var(--fill-color);\n",
              "      border-bottom-color: var(--fill-color);\n",
              "    }\n",
              "    90% {\n",
              "      border-color: transparent;\n",
              "      border-bottom-color: var(--fill-color);\n",
              "    }\n",
              "  }\n",
              "</style>\n",
              "\n",
              "      <script>\n",
              "        async function quickchart(key) {\n",
              "          const quickchartButtonEl =\n",
              "            document.querySelector('#' + key + ' button');\n",
              "          quickchartButtonEl.disabled = true;  // To prevent multiple clicks.\n",
              "          quickchartButtonEl.classList.add('colab-df-spinner');\n",
              "          try {\n",
              "            const charts = await google.colab.kernel.invokeFunction(\n",
              "                'suggestCharts', [key], {});\n",
              "          } catch (error) {\n",
              "            console.error('Error during call to suggestCharts:', error);\n",
              "          }\n",
              "          quickchartButtonEl.classList.remove('colab-df-spinner');\n",
              "          quickchartButtonEl.classList.add('colab-df-quickchart-complete');\n",
              "        }\n",
              "        (() => {\n",
              "          let quickchartButtonEl =\n",
              "            document.querySelector('#df-29a27e44-6079-4321-97b7-8db2a134360c button');\n",
              "          quickchartButtonEl.style.display =\n",
              "            google.colab.kernel.accessAllowed ? 'block' : 'none';\n",
              "        })();\n",
              "      </script>\n",
              "    </div>\n",
              "\n",
              "    </div>\n",
              "  </div>\n"
            ],
            "application/vnd.google.colaboratory.intrinsic+json": {
              "type": "dataframe",
              "variable_name": "concatenated_df",
              "summary": "{\n  \"name\": \"concatenated_df\",\n  \"rows\": 72060,\n  \"fields\": [\n    {\n      \"column\": \"Frame\",\n      \"properties\": {\n        \"dtype\": \"number\",\n        \"std\": 15874,\n        \"min\": 0,\n        \"max\": 54179,\n        \"num_unique_values\": 54180,\n        \"samples\": [\n          49252,\n          36162,\n          49716\n        ],\n        \"semantic_type\": \"\",\n        \"description\": \"\"\n      }\n    },\n    {\n      \"column\": \"L5 x\",\n      \"properties\": {\n        \"dtype\": \"number\",\n        \"std\": 0.6079552180751359,\n        \"min\": -9.529681273,\n        \"max\": 14.9503575,\n        \"num_unique_values\": 72059,\n        \"samples\": [\n          -0.016110643,\n          -0.082184149,\n          -0.162943432\n        ],\n        \"semantic_type\": \"\",\n        \"description\": \"\"\n      }\n    },\n    {\n      \"column\": \"L5 y\",\n      \"properties\": {\n        \"dtype\": \"number\",\n        \"std\": 0.5534108939632343,\n        \"min\": -11.05033985,\n        \"max\": 9.819392299,\n        \"num_unique_values\": 72056,\n        \"samples\": [\n          -0.314336609,\n          0.047819589,\n          -0.204825014\n        ],\n        \"semantic_type\": \"\",\n        \"description\": \"\"\n      }\n    },\n    {\n      \"column\": \"L5 z\",\n      \"properties\": {\n        \"dtype\": \"number\",\n        \"std\": 0.41903630372029177,\n        \"min\": -5.469383304,\n        \"max\": 8.911717046,\n        \"num_unique_values\": 72059,\n        \"samples\": [\n          0.198814623,\n          0.008485195,\n          -0.166788743\n        ],\n        \"semantic_type\": \"\",\n        \"description\": \"\"\n      }\n    },\n    {\n      \"column\": \"T12 x\",\n      \"properties\": {\n        \"dtype\": \"number\",\n        \"std\": 1.1349638299109244,\n        \"min\": -17.96157321,\n        \"max\": 28.23402339,\n        \"num_unique_values\": 72059,\n        \"samples\": [\n          -0.030415903,\n          -0.202185999,\n          -0.302078886\n        ],\n        \"semantic_type\": \"\",\n        \"description\": \"\"\n      }\n    },\n    {\n      \"column\": \"T12 y\",\n      \"properties\": {\n        \"dtype\": \"number\",\n        \"std\": 1.0107866056925718,\n        \"min\": -20.80335186,\n        \"max\": 18.5248729,\n        \"num_unique_values\": 72060,\n        \"samples\": [\n          -0.272612403,\n          -0.037828935,\n          0.133348776\n        ],\n        \"semantic_type\": \"\",\n        \"description\": \"\"\n      }\n    },\n    {\n      \"column\": \"T12 z\",\n      \"properties\": {\n        \"dtype\": \"number\",\n        \"std\": 0.7736524839727202,\n        \"min\": -10.22548842,\n        \"max\": 13.72854873,\n        \"num_unique_values\": 72058,\n        \"samples\": [\n          -0.054357532,\n          -0.124226509,\n          -0.09709262\n        ],\n        \"semantic_type\": \"\",\n        \"description\": \"\"\n      }\n    },\n    {\n      \"column\": \"class\",\n      \"properties\": {\n        \"dtype\": \"number\",\n        \"std\": 0,\n        \"min\": 0,\n        \"max\": 1,\n        \"num_unique_values\": 2,\n        \"samples\": [\n          1,\n          0\n        ],\n        \"semantic_type\": \"\",\n        \"description\": \"\"\n      }\n    },\n    {\n      \"column\": \"l5_xy_rmsq\",\n      \"properties\": {\n        \"dtype\": \"number\",\n        \"std\": 0.4298847847083406,\n        \"min\": 0.0007245798743306358,\n        \"max\": 10.641326540477808,\n        \"num_unique_values\": 72060,\n        \"samples\": [\n          0.03224304187217293,\n          0.014550424153338161\n        ],\n        \"semantic_type\": \"\",\n        \"description\": \"\"\n      }\n    },\n    {\n      \"column\": \"l5_yz_rmsq\",\n      \"properties\": {\n        \"dtype\": \"number\",\n        \"std\": 0.359023546164573,\n        \"min\": 0.0005136691122332547,\n        \"max\": 7.8394101659913344,\n        \"num_unique_values\": 72060,\n        \"samples\": [\n          0.4815874755362574,\n          0.1230784559601919\n        ],\n        \"semantic_type\": \"\",\n        \"description\": \"\"\n      }\n    },\n    {\n      \"column\": \"l5_xz_rmsq\",\n      \"properties\": {\n        \"dtype\": \"number\",\n        \"std\": 0.38910106951723067,\n        \"min\": 0.0004838998208580987,\n        \"max\": 11.756414248301088,\n        \"num_unique_values\": 72060,\n        \"samples\": [\n          0.48052494492788594,\n          0.12222144569262129\n        ],\n        \"semantic_type\": \"\",\n        \"description\": \"\"\n      }\n    },\n    {\n      \"column\": \"l5_xyz_rmsq\",\n      \"properties\": {\n        \"dtype\": \"number\",\n        \"std\": 0.38044177750712244,\n        \"min\": 0.0031224535127356654,\n        \"max\": 9.650371731349042,\n        \"num_unique_values\": 72060,\n        \"samples\": [\n          0.39322187673988157,\n          0.10049561010608261\n        ],\n        \"semantic_type\": \"\",\n        \"description\": \"\"\n      }\n    },\n    {\n      \"column\": \"l5_roll\",\n      \"properties\": {\n        \"dtype\": \"number\",\n        \"std\": 40.71974401536187,\n        \"min\": -89.61866309247617,\n        \"max\": 89.43837963160455,\n        \"num_unique_values\": 72060,\n        \"samples\": [\n          -3.8227781455918004,\n          -6.7772443858025\n        ],\n        \"semantic_type\": \"\",\n        \"description\": \"\"\n      }\n    },\n    {\n      \"column\": \"l5_pitch\",\n      \"properties\": {\n        \"dtype\": \"number\",\n        \"std\": 43.049484299742524,\n        \"min\": -89.64984874462884,\n        \"max\": 89.90160120544381,\n        \"num_unique_values\": 72060,\n        \"samples\": [\n          -0.3503077568973801,\n          0.401843170299709\n        ],\n        \"semantic_type\": \"\",\n        \"description\": \"\"\n      }\n    },\n    {\n      \"column\": \"t12_xy_rmsq\",\n      \"properties\": {\n        \"dtype\": \"number\",\n        \"std\": 0.7970586338314595,\n        \"min\": 0.0019562518811069548,\n        \"max\": 20.093659548210425,\n        \"num_unique_values\": 72060,\n        \"samples\": [\n          0.19547961581531928,\n          0.026813293486025416\n        ],\n        \"semantic_type\": \"\",\n        \"description\": \"\"\n      }\n    },\n    {\n      \"column\": \"t12_yz_rmsq\",\n      \"properties\": {\n        \"dtype\": \"number\",\n        \"std\": 0.6578370148838043,\n        \"min\": 0.00032722509278702936,\n        \"max\": 14.758114606617218,\n        \"num_unique_values\": 72060,\n        \"samples\": [\n          0.8380099756427118,\n          0.23201037699721727\n        ],\n        \"semantic_type\": \"\",\n        \"description\": \"\"\n      }\n    },\n    {\n      \"column\": \"t12_xz_rmsq\",\n      \"properties\": {\n        \"dtype\": \"number\",\n        \"std\": 0.7250479938613806,\n        \"min\": 8.223880088379816e-05,\n        \"max\": 22.199472144839973,\n        \"num_unique_values\": 72060,\n        \"samples\": [\n          0.8161834825617147,\n          0.2304706910188894\n        ],\n        \"semantic_type\": \"\",\n        \"description\": \"\"\n      }\n    },\n    {\n      \"column\": \"t12_xyz_rmsq\",\n      \"properties\": {\n        \"dtype\": \"number\",\n        \"std\": 0.704297559460648,\n        \"min\": 0.006393701694720986,\n        \"max\": 18.220714935760714,\n        \"num_unique_values\": 72060,\n        \"samples\": [\n          0.6847453241126884,\n          0.18944172996877168\n        ],\n        \"semantic_type\": \"\",\n        \"description\": \"\"\n      }\n    },\n    {\n      \"column\": \"t12_roll\",\n      \"properties\": {\n        \"dtype\": \"number\",\n        \"std\": 40.40967829464896,\n        \"min\": -89.97261038321643,\n        \"max\": 89.83122553480435,\n        \"num_unique_values\": 72060,\n        \"samples\": [\n          -13.288595997221329,\n          -6.6202938527123845\n        ],\n        \"semantic_type\": \"\",\n        \"description\": \"\"\n      }\n    },\n    {\n      \"column\": \"t12_pitch\",\n      \"properties\": {\n        \"dtype\": \"number\",\n        \"std\": 43.23187759301033,\n        \"min\": -89.68699862682944,\n        \"max\": 89.79541689998852,\n        \"num_unique_values\": 72060,\n        \"samples\": [\n          -2.2180820683583695,\n          -0.4579239851465763\n        ],\n        \"semantic_type\": \"\",\n        \"description\": \"\"\n      }\n    }\n  ]\n}"
            }
          },
          "metadata": {},
          "execution_count": 59
        }
      ]
    },
    {
      "cell_type": "markdown",
      "source": [
        "# **Data pre-processing and Feature computation**"
      ],
      "metadata": {
        "id": "joxWYeptQyb0"
      }
    },
    {
      "cell_type": "code",
      "source": [
        "composited_df = concatenated_df.copy()"
      ],
      "metadata": {
        "id": "RbQ_7dblPYCb"
      },
      "execution_count": 60,
      "outputs": []
    },
    {
      "cell_type": "markdown",
      "source": [
        "**Create statistical features for the 18 columns per minute (1 min = 60fpm)**"
      ],
      "metadata": {
        "id": "Xp0-RdZnRik6"
      }
    },
    {
      "cell_type": "markdown",
      "source": [
        "These includes:\n",
        "\n",
        "* Mean\n",
        "* Standard deviation\n",
        "* Min\n",
        "* Max\n",
        "* Area under the curve (AUC)\n",
        "* Number of peaks"
      ],
      "metadata": {
        "id": "6hxGSfAiRppm"
      }
    },
    {
      "cell_type": "code",
      "source": [
        "new_cols = {}\n",
        "FPM = 60\n",
        "num_of_min = len(composited_df) // FPM\n",
        "print(num_of_min)\n",
        "\n",
        "for column in concatenated_df.columns:\n",
        "  if column not in ['Frame', 'class']:\n",
        "    values = {\n",
        "      'mean': [],\n",
        "      'max': [],\n",
        "      'min': [],\n",
        "      'std': [],\n",
        "      'auc': [],\n",
        "      'peak': []\n",
        "    }\n",
        "    for i in range(num_of_min):\n",
        "      start, end = i * FPM, (i + 1) * FPM\n",
        "      values['mean'].append(np.mean(concatenated_df[column][start:end]))\n",
        "      values['max'].append(np.max(concatenated_df[column][start:end]))\n",
        "      values['min'].append(np.min(concatenated_df[column][start:end]))\n",
        "      values['std'].append(np.std(concatenated_df[column][start:end]))\n",
        "      values['auc'].append(np.trapz(concatenated_df[column][start:end]))\n",
        "      peaks, _ = find_peaks(concatenated_df[column][start:end])\n",
        "      values['peak'].append(len(peaks))\n",
        "    new_cols[f'{column}_mean'] = values['mean']\n",
        "    new_cols[f'{column}_max'] = values['max']\n",
        "    new_cols[f'{column}_min'] = values['min']\n",
        "    new_cols[f'{column}_std'] = values['std']\n",
        "    new_cols[f'{column}_auc'] = values['auc']\n",
        "    new_cols[f'{column}_peak'] = values['peak']\n",
        "\n",
        "# print(new_cols)\n",
        "\n",
        "new_features_df = pd.DataFrame(new_cols)\n",
        "new_features_df['class'] = composited_df['class'][::FPM].reset_index(drop=True)\n",
        "new_features_df[\"Minute\"] = range(1, num_of_min + 1)"
      ],
      "metadata": {
        "colab": {
          "base_uri": "https://localhost:8080/"
        },
        "id": "XvwEEc_qQ9ws",
        "outputId": "2d7243d1-7ecd-45e1-b0ea-1ba1b75efb44"
      },
      "execution_count": 61,
      "outputs": [
        {
          "output_type": "stream",
          "name": "stdout",
          "text": [
            "1201\n"
          ]
        }
      ]
    },
    {
      "cell_type": "code",
      "source": [
        "new_features_df.to_csv(\"new_processed_data/full_processed_data.csv\", index=False)"
      ],
      "metadata": {
        "id": "ZWkbrKFoTQCV"
      },
      "execution_count": 62,
      "outputs": []
    },
    {
      "cell_type": "code",
      "source": [
        "print(\"Shape: \", new_features_df.shape)\n",
        "print(\"Info: \", new_features_df.info())"
      ],
      "metadata": {
        "colab": {
          "base_uri": "https://localhost:8080/"
        },
        "id": "t0jfXSOJTlLs",
        "outputId": "b125421b-3b2b-44ed-9764-9ee7b75fc467"
      },
      "execution_count": 63,
      "outputs": [
        {
          "output_type": "stream",
          "name": "stdout",
          "text": [
            "Shape:  (1201, 110)\n",
            "<class 'pandas.core.frame.DataFrame'>\n",
            "RangeIndex: 1201 entries, 0 to 1200\n",
            "Columns: 110 entries, L5 x_mean to Minute\n",
            "dtypes: float64(90), int64(20)\n",
            "memory usage: 1.0 MB\n",
            "Info:  None\n"
          ]
        }
      ]
    },
    {
      "cell_type": "markdown",
      "source": [
        "# **Training**"
      ],
      "metadata": {
        "id": "AwVpyI5RT1n0"
      }
    },
    {
      "cell_type": "code",
      "source": [
        "from sklearn import svm\n",
        "from sklearn.metrics import accuracy_score\n",
        "from sklearn.model_selection import cross_val_score, GridSearchCV, train_test_split\n",
        "from sklearn.feature_selection import SelectKBest, f_classif\n",
        "from sklearn.decomposition import PCA\n",
        "from sklearn.linear_model import SGDClassifier\n",
        "from sklearn.ensemble import RandomForestClassifier\n",
        "from sklearn.neural_network import MLPClassifier"
      ],
      "metadata": {
        "id": "XEGg6HcnT4EC"
      },
      "execution_count": 64,
      "outputs": []
    },
    {
      "cell_type": "code",
      "source": [
        "all_data_df = new_features_df.copy()"
      ],
      "metadata": {
        "id": "yJTeAksqcI2B"
      },
      "execution_count": 65,
      "outputs": []
    },
    {
      "cell_type": "code",
      "source": [
        "print(all_data_df.head())\n",
        "print(\"Info: \", all_data_df.info())"
      ],
      "metadata": {
        "colab": {
          "base_uri": "https://localhost:8080/"
        },
        "id": "BTIjMl4QdeN3",
        "outputId": "4a85803a-e7cc-4d7e-b66c-f00732e1f12e"
      },
      "execution_count": 66,
      "outputs": [
        {
          "output_type": "stream",
          "name": "stdout",
          "text": [
            "   L5 x_mean  L5 x_max   L5 x_min  L5 x_std   L5 x_auc  L5 x_peak  L5 y_mean  \\\n",
            "0  0.0114493 0.3751575 -0.3151581 0.1327415  0.6096795         16 -0.0122954   \n",
            "1 -0.0315213 1.3709298 -0.8050507 0.3482058 -1.5056593         16  0.0111132   \n",
            "2  0.0224071 1.2923841 -1.3034076 0.6003772  1.5930189         18  0.0255545   \n",
            "3  0.0350186 1.3752680 -1.1076449 0.5635564  1.9601368         13 -0.1378316   \n",
            "4 -0.0722189 1.8447772 -1.8701316 0.6936417 -3.9543328         14  0.0276975   \n",
            "\n",
            "   L5 y_max   L5 y_min  L5 y_std   L5 y_auc  L5 y_peak  L5 z_mean  L5 z_max  \\\n",
            "0 0.3200817 -0.2765721 0.1208335 -0.7624985         17  0.0059038 0.2449787   \n",
            "1 0.4042456 -0.5005891 0.1996808  0.6701410         15  0.0596023 1.4091193   \n",
            "2 0.8720929 -0.8778820 0.4277349  2.1984654         16 -0.0528891 0.4049394   \n",
            "3 1.0463692 -1.1207336 0.4760387 -8.7487254         17 -0.0053414 1.0672191   \n",
            "4 3.1460309 -2.4863657 0.9055351  1.2359550         15  0.0397556 1.5277607   \n",
            "\n",
            "    L5 z_min  L5 z_std   L5 z_auc  L5 z_peak  T12 x_mean  T12 x_max  \\\n",
            "0 -0.1551345 0.0795419  0.4270628         18   0.0301101  0.7067173   \n",
            "1 -0.5766213 0.3189102  3.7251235         14  -0.0766932  2.3989973   \n",
            "2 -1.4404389 0.3599795 -2.6296148         15   0.0158848  2.4443539   \n",
            "3 -1.1193746 0.4151479 -0.4892581         15   0.0850293  2.6289918   \n",
            "4 -1.3528281 0.5712754  2.2954944         18  -0.1287270  3.7052226   \n",
            "\n",
            "   T12 x_min  T12 x_std  T12 x_auc  T12 x_peak  T12 y_mean  T12 y_max  \\\n",
            "0 -0.5957525  0.2392146  1.6600621          15  -0.0124921  0.5680887   \n",
            "1 -1.5376972  0.6393099 -3.8751082          16   0.0203232  0.7473979   \n",
            "2 -2.4691047  1.1239797  1.2981375          17   0.0636754  1.5595362   \n",
            "3 -2.0842782  1.0377586  4.7379442          13  -0.2496437  1.8743951   \n",
            "4 -3.5453176  1.3269777 -7.0987788          16   0.0396439  5.9274299   \n",
            "\n",
            "   T12 y_min  T12 y_std   T12 y_auc  T12 y_peak  T12 z_mean  T12 z_max  \\\n",
            "0 -0.5161221  0.2115876  -0.7974550          16   0.0149855  0.3292543   \n",
            "1 -0.9646922  0.3412070   1.1241081          13   0.1108129  2.6705274   \n",
            "2 -1.6594612  0.7317399   4.4885646          16  -0.0879979  0.7612081   \n",
            "3 -2.1169723  0.8706015 -16.0329747          15  -0.0099033  1.7856751   \n",
            "4 -4.7174463  1.6995020   1.6115540          14   0.0705351  2.8836466   \n",
            "\n",
            "   T12 z_min  T12 z_std  T12 z_auc  T12 z_peak  l5_xy_rmsq_mean  \\\n",
            "0 -0.2929903  0.1354229  1.0366971          17        0.1055897   \n",
            "1 -1.0831318  0.6015618  6.8770982          15        0.2275897   \n",
            "2 -2.7190707  0.6070220 -4.6370060          16        0.4540895   \n",
            "3 -2.1164196  0.7652530 -0.9732962          14        0.4664638   \n",
            "4 -2.5500931  1.0346893  4.1066616          18        0.6475931   \n",
            "\n",
            "   l5_xy_rmsq_max  l5_xy_rmsq_min  l5_xy_rmsq_std  l5_xy_rmsq_auc  \\\n",
            "0       0.3276353       0.0087674       0.0714316       6.2759258   \n",
            "1       0.9864290       0.0262607       0.1712348      13.3438260   \n",
            "2       1.0095131       0.0413362       0.2570705      26.5760661   \n",
            "3       1.2320716       0.0669513       0.2542199      27.5348299   \n",
            "4       2.2690504       0.0401966       0.4839223      38.4007266   \n",
            "\n",
            "   l5_xy_rmsq_peak  l5_yz_rmsq_mean  l5_yz_rmsq_max  l5_yz_rmsq_min  \\\n",
            "0               18        0.0865235       0.2850148       0.0132402   \n",
            "1               20        0.1923481       0.9976570       0.0183872   \n",
            "2               19        0.3261047       1.1711645       0.0170439   \n",
            "3               15        0.3983730       1.0073080       0.0189723   \n",
            "4               15        0.6022109       2.2860809       0.0258745   \n",
            "\n",
            "   l5_yz_rmsq_std  l5_yz_rmsq_auc  l5_yz_rmsq_peak  l5_xz_rmsq_mean  \\\n",
            "0       0.0554124       5.1362854               20        0.0859942   \n",
            "1       0.1887544      11.4025090               19        0.2316153   \n",
            "2       0.2272710      18.7853550               18        0.4215577   \n",
            "3       0.2242595      23.4229905               17        0.4280990   \n",
            "4       0.4600984      35.8030326               19        0.5353877   \n",
            "\n",
            "   l5_xz_rmsq_max  l5_xz_rmsq_min  l5_xz_rmsq_std  l5_xz_rmsq_auc  \\\n",
            "0       0.2766020       0.0050531       0.0682758       5.0832248   \n",
            "1       1.3389103       0.0080079       0.2451589      13.5783362   \n",
            "2       1.1878060       0.0709318       0.2625982      24.5122870   \n",
            "3       1.1781473       0.0099699       0.2496607      25.5249565   \n",
            "4       1.4836160       0.0498903       0.3471387      31.7528298   \n",
            "\n",
            "   l5_xz_rmsq_peak  l5_xyz_rmsq_mean  l5_xyz_rmsq_max  l5_xyz_rmsq_min  \\\n",
            "0               20         0.0964785        0.2902253        0.0164412   \n",
            "1               19         0.2266357        1.1033279        0.0385592   \n",
            "2               19         0.4159426        1.0942947        0.0672010   \n",
            "3               16         0.4449017        1.1431974        0.0568174   \n",
            "4               20         0.6179735        1.9019290        0.0456000   \n",
            "\n",
            "   l5_xyz_rmsq_std  l5_xyz_rmsq_auc  l5_xyz_rmsq_peak  l5_roll_mean  \\\n",
            "0        0.0603898        5.7238840                18    -4.9682049   \n",
            "1        0.1944237       13.3210391                19     1.7905390   \n",
            "2        0.2294362       24.2083003                18     6.0581399   \n",
            "3        0.2183242       26.2757948                15   -10.4385236   \n",
            "4        0.4038884       36.6843431                16     2.7417878   \n",
            "\n",
            "   l5_roll_max  l5_roll_min  l5_roll_std  l5_roll_auc  l5_roll_peak  \\\n",
            "0   85.7679831  -77.5642640   46.5030699 -311.9018474            18   \n",
            "1   76.0972235  -87.8279505   39.5268872  123.3165309            14   \n",
            "2   66.8389954  -63.9929594   35.2943606  397.5379051            16   \n",
            "3   89.1963567  -73.2848140   36.9862813 -667.8371674            18   \n",
            "4   74.3995006  -76.3075278   41.9537511  121.3842165            13   \n",
            "\n",
            "   l5_pitch_mean  l5_pitch_max  l5_pitch_min  l5_pitch_std  l5_pitch_auc  \\\n",
            "0      0.3150653    81.7577481   -71.6050451    40.9701846   -24.6297855   \n",
            "1     -7.4910285    83.9493955   -79.8883588    45.6266163  -406.8316812   \n",
            "2     -1.8748785    73.1673977   -86.5619469    50.0166855  -116.7097846   \n",
            "3      5.3204062    79.8625004   -84.3737932    43.9460098   300.0434356   \n",
            "4    -13.0200373    62.3997956   -76.9311431    38.3599347  -756.8403962   \n",
            "\n",
            "   l5_pitch_peak  t12_xy_rmsq_mean  t12_xy_rmsq_max  t12_xy_rmsq_min  \\\n",
            "0             17         0.1863357        0.6163647        0.0142511   \n",
            "1             15         0.4095038        1.7108400        0.0530554   \n",
            "2             17         0.8243390        1.9080596        0.0824706   \n",
            "3             13         0.8515788        2.3505143        0.1076830   \n",
            "4             16         1.2181850        4.2808780        0.0739715   \n",
            "\n",
            "   t12_xy_rmsq_std  t12_xy_rmsq_auc  t12_xy_rmsq_peak  t12_yz_rmsq_mean  \\\n",
            "0        0.1296410       11.0673544                18         0.1508464   \n",
            "1        0.3130875       24.0173014                18         0.3424548   \n",
            "2        0.4711746       48.5185891                19         0.5681966   \n",
            "3        0.4764812       50.1780757                17         0.7344840   \n",
            "4        0.9217835       72.2977304                14         1.1161888   \n",
            "\n",
            "   t12_yz_rmsq_max  t12_yz_rmsq_min  t12_yz_rmsq_std  t12_yz_rmsq_auc  \\\n",
            "0        0.4289879        0.0143981        0.0948157        8.9465470   \n",
            "1        1.8891221        0.0281871        0.3580788       20.3314423   \n",
            "2        1.9301568        0.0429833        0.3674386       33.0403001   \n",
            "3        1.9113109        0.1025958        0.4043795       43.1182626   \n",
            "4        4.3091018        0.0481170        0.8583941       66.3708332   \n",
            "\n",
            "   t12_yz_rmsq_peak  t12_xz_rmsq_mean  t12_xz_rmsq_max  t12_xz_rmsq_min  \\\n",
            "0                20         0.1514248        0.5211226        0.0107793   \n",
            "1                19         0.4265586        2.4854882        0.0155261   \n",
            "2                18         0.7681181        2.0146807        0.1679910   \n",
            "3                15         0.7888467        2.2449476        0.0382000   \n",
            "4                19         0.9925896        2.8729467        0.0960440   \n",
            "\n",
            "   t12_xz_rmsq_std  t12_xz_rmsq_auc  t12_xz_rmsq_peak  t12_xyz_rmsq_mean  \\\n",
            "0        0.1241677        8.9407948                21          0.1700309   \n",
            "1        0.4608962       25.0181012                20          0.4101384   \n",
            "2        0.4794744       44.9035611                20          0.7507869   \n",
            "3        0.4611533       46.9461694                17          0.8171970   \n",
            "4        0.6642776       58.9153476                20          1.1548434   \n",
            "\n",
            "   t12_xyz_rmsq_max  t12_xyz_rmsq_min  t12_xyz_rmsq_std  t12_xyz_rmsq_auc  \\\n",
            "0         0.5175259         0.0303038         0.1078394        10.0790798   \n",
            "1         2.0374872         0.0739654         0.3655817        24.1216030   \n",
            "2         1.6508120         0.1852703         0.4034257        43.9769925   \n",
            "3         2.1769870         0.1884336         0.4027900        48.1844747   \n",
            "4         3.5895276         0.0871991         0.7619901        68.5981435   \n",
            "\n",
            "   t12_xyz_rmsq_peak  t12_roll_mean  t12_roll_max  t12_roll_min  t12_roll_std  \\\n",
            "0                 18     -2.2214588    85.7976905   -77.0377345    46.2820028   \n",
            "1                 22      0.0376544    70.2440452   -87.8002950    38.0538685   \n",
            "2                 18      5.8749073    71.2639783   -65.0970268    35.1097768   \n",
            "3                 15     -9.0906819    88.3491040   -70.4999688    37.7041388   \n",
            "4                 16      2.1457535    74.7642135   -77.5696495    42.6182846   \n",
            "\n",
            "   t12_roll_auc  t12_roll_peak  t12_pitch_mean  t12_pitch_max  t12_pitch_min  \\\n",
            "0  -147.3633961             18       1.8060075     81.2658466    -76.3957612   \n",
            "1    12.0668098             14      -8.5918480     84.9186056    -80.4034402   \n",
            "2   378.7901037             15      -4.1241201     72.1357439    -85.5355389   \n",
            "3  -596.0000298             16       5.0129090     80.7421699    -67.6194633   \n",
            "4    85.0051683             15     -13.0500516     63.2211228    -77.2961426   \n",
            "\n",
            "   t12_pitch_std  t12_pitch_auc  t12_pitch_peak  class  Minute  \n",
            "0     41.2491991     64.7803877              15      0       1  \n",
            "1     46.1182920   -474.7524513              16      0       2  \n",
            "2     50.4529231   -247.4606894              15      0       3  \n",
            "3     42.6827236    280.1304606              13      0       4  \n",
            "4     38.7253189   -759.4363857              17      0       5  \n",
            "<class 'pandas.core.frame.DataFrame'>\n",
            "RangeIndex: 1201 entries, 0 to 1200\n",
            "Columns: 110 entries, L5 x_mean to Minute\n",
            "dtypes: float64(90), int64(20)\n",
            "memory usage: 1.0 MB\n",
            "Info:  None\n"
          ]
        }
      ]
    },
    {
      "cell_type": "markdown",
      "source": [
        "test split, with 30% of test data"
      ],
      "metadata": {
        "id": "3exbzZj0gcoB"
      }
    },
    {
      "cell_type": "code",
      "source": [
        "X_vals = all_data_df.drop(['class', 'Minute'], axis=1)\n",
        "Y_vals = all_data_df['class']\n",
        "\n",
        "X_train, X_test, Y_train, Y_test = train_test_split(X_vals, Y_vals, test_size=0.3, random_state=42)"
      ],
      "metadata": {
        "id": "14WKEWCVd_yE"
      },
      "execution_count": 67,
      "outputs": []
    },
    {
      "cell_type": "markdown",
      "source": [
        "Predict with Support Vector Machine"
      ],
      "metadata": {
        "id": "JGAlVCKdgeAH"
      }
    },
    {
      "cell_type": "code",
      "source": [
        "svc = svm.SVC()\n",
        "svc.fit(X_train, Y_train)\n",
        "Y_pred = svc.predict(X_test)\n",
        "acc = accuracy_score(Y_test, Y_pred)\n",
        "\n",
        "print(f\"Accuracy of the SVM is: {acc * 100:2f}\")"
      ],
      "metadata": {
        "colab": {
          "base_uri": "https://localhost:8080/"
        },
        "id": "0ZAmh0_BeWvf",
        "outputId": "6bb3950a-be39-49b0-ce54-3dc718c4db9b"
      },
      "execution_count": 68,
      "outputs": [
        {
          "output_type": "stream",
          "name": "stdout",
          "text": [
            "Accuracy of the SVM is: 77.562327\n"
          ]
        }
      ]
    },
    {
      "cell_type": "markdown",
      "source": [
        "10-fold cross validation mean accuracy of SVM"
      ],
      "metadata": {
        "id": "Oe7PwxbYghxr"
      }
    },
    {
      "cell_type": "code",
      "source": [
        "svc = svm.SVC()\n",
        "cross_val = cross_val_score(svc, X_vals, Y_vals, cv = 10)\n",
        "print(f\"10-fold cross validation mean accuracy score: {cross_val.mean()*100:2f}\")"
      ],
      "metadata": {
        "colab": {
          "base_uri": "https://localhost:8080/"
        },
        "id": "VLdN2A17egMn",
        "outputId": "3bcdd78a-cf2c-4c5f-97c7-0d8e04a3c65d"
      },
      "execution_count": 69,
      "outputs": [
        {
          "output_type": "stream",
          "name": "stdout",
          "text": [
            "10-fold cross validation mean accuracy score: 75.020661\n"
          ]
        }
      ]
    },
    {
      "cell_type": "markdown",
      "source": [
        "Find the best set of values for the model using GridSearchCV"
      ],
      "metadata": {
        "id": "KWIClq0_gnqi"
      }
    },
    {
      "cell_type": "code",
      "source": [
        "param_grid = {'C': [0.1, 1, 10, 100, 1000],\n",
        "              'gamma': [1, 0.1, 0.01, 0.001, 0.0001],\n",
        "              'kernel': ['rbf']}\n",
        "\n",
        "grid = GridSearchCV(svm.SVC(), param_grid, refit = True, verbose = 3)\n",
        "\n",
        "# fitting the model for grid search\n",
        "grid.fit(X_train, Y_train)\n",
        "\n",
        "print(\"Best params to fit: \", grid.best_params_)"
      ],
      "metadata": {
        "colab": {
          "base_uri": "https://localhost:8080/"
        },
        "id": "rViF3CQ-e2Ex",
        "outputId": "49789fb5-2fe3-46f5-aa09-e5d5c670471d"
      },
      "execution_count": 70,
      "outputs": [
        {
          "output_type": "stream",
          "name": "stdout",
          "text": [
            "Fitting 5 folds for each of 25 candidates, totalling 125 fits\n",
            "[CV 1/5] END ........C=0.1, gamma=1, kernel=rbf;, score=0.744 total time=   0.1s\n",
            "[CV 2/5] END ........C=0.1, gamma=1, kernel=rbf;, score=0.744 total time=   0.1s\n",
            "[CV 3/5] END ........C=0.1, gamma=1, kernel=rbf;, score=0.744 total time=   0.1s\n",
            "[CV 4/5] END ........C=0.1, gamma=1, kernel=rbf;, score=0.744 total time=   0.1s\n",
            "[CV 5/5] END ........C=0.1, gamma=1, kernel=rbf;, score=0.738 total time=   0.1s\n",
            "[CV 1/5] END ......C=0.1, gamma=0.1, kernel=rbf;, score=0.744 total time=   0.1s\n",
            "[CV 2/5] END ......C=0.1, gamma=0.1, kernel=rbf;, score=0.744 total time=   0.1s\n",
            "[CV 3/5] END ......C=0.1, gamma=0.1, kernel=rbf;, score=0.744 total time=   0.1s\n",
            "[CV 4/5] END ......C=0.1, gamma=0.1, kernel=rbf;, score=0.744 total time=   0.1s\n",
            "[CV 5/5] END ......C=0.1, gamma=0.1, kernel=rbf;, score=0.738 total time=   0.1s\n",
            "[CV 1/5] END .....C=0.1, gamma=0.01, kernel=rbf;, score=0.744 total time=   0.1s\n",
            "[CV 2/5] END .....C=0.1, gamma=0.01, kernel=rbf;, score=0.744 total time=   0.1s\n",
            "[CV 3/5] END .....C=0.1, gamma=0.01, kernel=rbf;, score=0.744 total time=   0.1s\n",
            "[CV 4/5] END .....C=0.1, gamma=0.01, kernel=rbf;, score=0.744 total time=   0.1s\n",
            "[CV 5/5] END .....C=0.1, gamma=0.01, kernel=rbf;, score=0.738 total time=   0.1s\n",
            "[CV 1/5] END ....C=0.1, gamma=0.001, kernel=rbf;, score=0.744 total time=   0.1s\n",
            "[CV 2/5] END ....C=0.1, gamma=0.001, kernel=rbf;, score=0.744 total time=   0.1s\n",
            "[CV 3/5] END ....C=0.1, gamma=0.001, kernel=rbf;, score=0.744 total time=   0.1s\n",
            "[CV 4/5] END ....C=0.1, gamma=0.001, kernel=rbf;, score=0.744 total time=   0.1s\n",
            "[CV 5/5] END ....C=0.1, gamma=0.001, kernel=rbf;, score=0.738 total time=   0.1s\n",
            "[CV 1/5] END ...C=0.1, gamma=0.0001, kernel=rbf;, score=0.744 total time=   0.1s\n",
            "[CV 2/5] END ...C=0.1, gamma=0.0001, kernel=rbf;, score=0.744 total time=   0.1s\n",
            "[CV 3/5] END ...C=0.1, gamma=0.0001, kernel=rbf;, score=0.744 total time=   0.1s\n",
            "[CV 4/5] END ...C=0.1, gamma=0.0001, kernel=rbf;, score=0.744 total time=   0.1s\n",
            "[CV 5/5] END ...C=0.1, gamma=0.0001, kernel=rbf;, score=0.738 total time=   0.1s\n",
            "[CV 1/5] END ..........C=1, gamma=1, kernel=rbf;, score=0.744 total time=   0.1s\n",
            "[CV 2/5] END ..........C=1, gamma=1, kernel=rbf;, score=0.744 total time=   0.1s\n",
            "[CV 3/5] END ..........C=1, gamma=1, kernel=rbf;, score=0.744 total time=   0.1s\n",
            "[CV 4/5] END ..........C=1, gamma=1, kernel=rbf;, score=0.744 total time=   0.1s\n",
            "[CV 5/5] END ..........C=1, gamma=1, kernel=rbf;, score=0.738 total time=   0.1s\n",
            "[CV 1/5] END ........C=1, gamma=0.1, kernel=rbf;, score=0.744 total time=   0.1s\n",
            "[CV 2/5] END ........C=1, gamma=0.1, kernel=rbf;, score=0.744 total time=   0.1s\n",
            "[CV 3/5] END ........C=1, gamma=0.1, kernel=rbf;, score=0.744 total time=   0.1s\n",
            "[CV 4/5] END ........C=1, gamma=0.1, kernel=rbf;, score=0.744 total time=   0.1s\n",
            "[CV 5/5] END ........C=1, gamma=0.1, kernel=rbf;, score=0.738 total time=   0.1s\n",
            "[CV 1/5] END .......C=1, gamma=0.01, kernel=rbf;, score=0.744 total time=   0.1s\n",
            "[CV 2/5] END .......C=1, gamma=0.01, kernel=rbf;, score=0.744 total time=   0.1s\n",
            "[CV 3/5] END .......C=1, gamma=0.01, kernel=rbf;, score=0.744 total time=   0.1s\n",
            "[CV 4/5] END .......C=1, gamma=0.01, kernel=rbf;, score=0.744 total time=   0.1s\n",
            "[CV 5/5] END .......C=1, gamma=0.01, kernel=rbf;, score=0.738 total time=   0.1s\n",
            "[CV 1/5] END ......C=1, gamma=0.001, kernel=rbf;, score=0.744 total time=   0.1s\n",
            "[CV 2/5] END ......C=1, gamma=0.001, kernel=rbf;, score=0.744 total time=   0.1s\n",
            "[CV 3/5] END ......C=1, gamma=0.001, kernel=rbf;, score=0.744 total time=   0.1s\n",
            "[CV 4/5] END ......C=1, gamma=0.001, kernel=rbf;, score=0.744 total time=   0.1s\n",
            "[CV 5/5] END ......C=1, gamma=0.001, kernel=rbf;, score=0.738 total time=   0.1s\n",
            "[CV 1/5] END .....C=1, gamma=0.0001, kernel=rbf;, score=0.744 total time=   0.1s\n",
            "[CV 2/5] END .....C=1, gamma=0.0001, kernel=rbf;, score=0.732 total time=   0.1s\n",
            "[CV 3/5] END .....C=1, gamma=0.0001, kernel=rbf;, score=0.738 total time=   0.1s\n",
            "[CV 4/5] END .....C=1, gamma=0.0001, kernel=rbf;, score=0.744 total time=   0.1s\n",
            "[CV 5/5] END .....C=1, gamma=0.0001, kernel=rbf;, score=0.732 total time=   0.1s\n",
            "[CV 1/5] END .........C=10, gamma=1, kernel=rbf;, score=0.744 total time=   0.1s\n",
            "[CV 2/5] END .........C=10, gamma=1, kernel=rbf;, score=0.744 total time=   0.1s\n",
            "[CV 3/5] END .........C=10, gamma=1, kernel=rbf;, score=0.744 total time=   0.1s\n",
            "[CV 4/5] END .........C=10, gamma=1, kernel=rbf;, score=0.744 total time=   0.1s\n",
            "[CV 5/5] END .........C=10, gamma=1, kernel=rbf;, score=0.738 total time=   0.1s\n",
            "[CV 1/5] END .......C=10, gamma=0.1, kernel=rbf;, score=0.744 total time=   0.1s\n",
            "[CV 2/5] END .......C=10, gamma=0.1, kernel=rbf;, score=0.744 total time=   0.1s\n",
            "[CV 3/5] END .......C=10, gamma=0.1, kernel=rbf;, score=0.744 total time=   0.1s\n",
            "[CV 4/5] END .......C=10, gamma=0.1, kernel=rbf;, score=0.744 total time=   0.1s\n",
            "[CV 5/5] END .......C=10, gamma=0.1, kernel=rbf;, score=0.738 total time=   0.1s\n",
            "[CV 1/5] END ......C=10, gamma=0.01, kernel=rbf;, score=0.744 total time=   0.1s\n",
            "[CV 2/5] END ......C=10, gamma=0.01, kernel=rbf;, score=0.744 total time=   0.1s\n",
            "[CV 3/5] END ......C=10, gamma=0.01, kernel=rbf;, score=0.744 total time=   0.1s\n",
            "[CV 4/5] END ......C=10, gamma=0.01, kernel=rbf;, score=0.744 total time=   0.1s\n",
            "[CV 5/5] END ......C=10, gamma=0.01, kernel=rbf;, score=0.738 total time=   0.1s\n",
            "[CV 1/5] END .....C=10, gamma=0.001, kernel=rbf;, score=0.744 total time=   0.1s\n",
            "[CV 2/5] END .....C=10, gamma=0.001, kernel=rbf;, score=0.744 total time=   0.1s\n",
            "[CV 3/5] END .....C=10, gamma=0.001, kernel=rbf;, score=0.744 total time=   0.1s\n",
            "[CV 4/5] END .....C=10, gamma=0.001, kernel=rbf;, score=0.744 total time=   0.1s\n",
            "[CV 5/5] END .....C=10, gamma=0.001, kernel=rbf;, score=0.738 total time=   0.1s\n",
            "[CV 1/5] END ....C=10, gamma=0.0001, kernel=rbf;, score=0.726 total time=   0.1s\n",
            "[CV 2/5] END ....C=10, gamma=0.0001, kernel=rbf;, score=0.696 total time=   0.1s\n",
            "[CV 3/5] END ....C=10, gamma=0.0001, kernel=rbf;, score=0.690 total time=   0.1s\n",
            "[CV 4/5] END ....C=10, gamma=0.0001, kernel=rbf;, score=0.744 total time=   0.1s\n",
            "[CV 5/5] END ....C=10, gamma=0.0001, kernel=rbf;, score=0.673 total time=   0.1s\n",
            "[CV 1/5] END ........C=100, gamma=1, kernel=rbf;, score=0.744 total time=   0.1s\n",
            "[CV 2/5] END ........C=100, gamma=1, kernel=rbf;, score=0.744 total time=   0.1s\n",
            "[CV 3/5] END ........C=100, gamma=1, kernel=rbf;, score=0.744 total time=   0.1s\n",
            "[CV 4/5] END ........C=100, gamma=1, kernel=rbf;, score=0.744 total time=   0.1s\n",
            "[CV 5/5] END ........C=100, gamma=1, kernel=rbf;, score=0.738 total time=   0.1s\n",
            "[CV 1/5] END ......C=100, gamma=0.1, kernel=rbf;, score=0.744 total time=   0.1s\n",
            "[CV 2/5] END ......C=100, gamma=0.1, kernel=rbf;, score=0.744 total time=   0.1s\n",
            "[CV 3/5] END ......C=100, gamma=0.1, kernel=rbf;, score=0.744 total time=   0.1s\n",
            "[CV 4/5] END ......C=100, gamma=0.1, kernel=rbf;, score=0.744 total time=   0.1s\n",
            "[CV 5/5] END ......C=100, gamma=0.1, kernel=rbf;, score=0.738 total time=   0.1s\n",
            "[CV 1/5] END .....C=100, gamma=0.01, kernel=rbf;, score=0.744 total time=   0.1s\n",
            "[CV 2/5] END .....C=100, gamma=0.01, kernel=rbf;, score=0.744 total time=   0.1s\n",
            "[CV 3/5] END .....C=100, gamma=0.01, kernel=rbf;, score=0.744 total time=   0.1s\n",
            "[CV 4/5] END .....C=100, gamma=0.01, kernel=rbf;, score=0.744 total time=   0.1s\n",
            "[CV 5/5] END .....C=100, gamma=0.01, kernel=rbf;, score=0.738 total time=   0.1s\n",
            "[CV 1/5] END ....C=100, gamma=0.001, kernel=rbf;, score=0.744 total time=   0.1s\n",
            "[CV 2/5] END ....C=100, gamma=0.001, kernel=rbf;, score=0.744 total time=   0.1s\n",
            "[CV 3/5] END ....C=100, gamma=0.001, kernel=rbf;, score=0.744 total time=   0.1s\n",
            "[CV 4/5] END ....C=100, gamma=0.001, kernel=rbf;, score=0.744 total time=   0.1s\n",
            "[CV 5/5] END ....C=100, gamma=0.001, kernel=rbf;, score=0.738 total time=   0.1s\n",
            "[CV 1/5] END ...C=100, gamma=0.0001, kernel=rbf;, score=0.726 total time=   0.1s\n",
            "[CV 2/5] END ...C=100, gamma=0.0001, kernel=rbf;, score=0.696 total time=   0.1s\n",
            "[CV 3/5] END ...C=100, gamma=0.0001, kernel=rbf;, score=0.690 total time=   0.1s\n",
            "[CV 4/5] END ...C=100, gamma=0.0001, kernel=rbf;, score=0.744 total time=   0.1s\n",
            "[CV 5/5] END ...C=100, gamma=0.0001, kernel=rbf;, score=0.673 total time=   0.1s\n",
            "[CV 1/5] END .......C=1000, gamma=1, kernel=rbf;, score=0.744 total time=   0.1s\n",
            "[CV 2/5] END .......C=1000, gamma=1, kernel=rbf;, score=0.744 total time=   0.1s\n",
            "[CV 3/5] END .......C=1000, gamma=1, kernel=rbf;, score=0.744 total time=   0.1s\n",
            "[CV 4/5] END .......C=1000, gamma=1, kernel=rbf;, score=0.744 total time=   0.1s\n",
            "[CV 5/5] END .......C=1000, gamma=1, kernel=rbf;, score=0.738 total time=   0.1s\n",
            "[CV 1/5] END .....C=1000, gamma=0.1, kernel=rbf;, score=0.744 total time=   0.1s\n",
            "[CV 2/5] END .....C=1000, gamma=0.1, kernel=rbf;, score=0.744 total time=   0.1s\n",
            "[CV 3/5] END .....C=1000, gamma=0.1, kernel=rbf;, score=0.744 total time=   0.1s\n",
            "[CV 4/5] END .....C=1000, gamma=0.1, kernel=rbf;, score=0.744 total time=   0.1s\n",
            "[CV 5/5] END .....C=1000, gamma=0.1, kernel=rbf;, score=0.738 total time=   0.1s\n",
            "[CV 1/5] END ....C=1000, gamma=0.01, kernel=rbf;, score=0.744 total time=   0.1s\n",
            "[CV 2/5] END ....C=1000, gamma=0.01, kernel=rbf;, score=0.744 total time=   0.1s\n",
            "[CV 3/5] END ....C=1000, gamma=0.01, kernel=rbf;, score=0.744 total time=   0.1s\n",
            "[CV 4/5] END ....C=1000, gamma=0.01, kernel=rbf;, score=0.744 total time=   0.1s\n",
            "[CV 5/5] END ....C=1000, gamma=0.01, kernel=rbf;, score=0.738 total time=   0.1s\n",
            "[CV 1/5] END ...C=1000, gamma=0.001, kernel=rbf;, score=0.744 total time=   0.1s\n",
            "[CV 2/5] END ...C=1000, gamma=0.001, kernel=rbf;, score=0.744 total time=   0.1s\n",
            "[CV 3/5] END ...C=1000, gamma=0.001, kernel=rbf;, score=0.744 total time=   0.1s\n",
            "[CV 4/5] END ...C=1000, gamma=0.001, kernel=rbf;, score=0.744 total time=   0.1s\n",
            "[CV 5/5] END ...C=1000, gamma=0.001, kernel=rbf;, score=0.738 total time=   0.1s\n",
            "[CV 1/5] END ..C=1000, gamma=0.0001, kernel=rbf;, score=0.726 total time=   0.1s\n",
            "[CV 2/5] END ..C=1000, gamma=0.0001, kernel=rbf;, score=0.696 total time=   0.1s\n",
            "[CV 3/5] END ..C=1000, gamma=0.0001, kernel=rbf;, score=0.690 total time=   0.1s\n",
            "[CV 4/5] END ..C=1000, gamma=0.0001, kernel=rbf;, score=0.744 total time=   0.1s\n",
            "[CV 5/5] END ..C=1000, gamma=0.0001, kernel=rbf;, score=0.673 total time=   0.1s\n",
            "Best params to fit:  {'C': 0.1, 'gamma': 1, 'kernel': 'rbf'}\n"
          ]
        }
      ]
    },
    {
      "cell_type": "markdown",
      "source": [
        "SVM training and predicting with hyperparameter tuning"
      ],
      "metadata": {
        "id": "oZ1fzT48gpq1"
      }
    },
    {
      "cell_type": "code",
      "source": [
        "svc_with_hyp = svm.SVC(C=grid.best_params_['C'], gamma=grid.best_params_['gamma'], kernel=grid.best_params_['kernel'])\n",
        "svc_with_hyp.fit(X_train, Y_train)\n",
        "\n",
        "y_pred_with_hyp = svc_with_hyp.predict(X_test)\n",
        "\n",
        "accuracy_score_with_hyp = accuracy_score(Y_test, y_pred_with_hyp)\n",
        "\n",
        "print(f\"Accuracy of the SVM with hyperparameters tuning: {accuracy_score_with_hyp * 100:2f}\")"
      ],
      "metadata": {
        "colab": {
          "base_uri": "https://localhost:8080/"
        },
        "id": "DbEaBNDbfEOv",
        "outputId": "b7189087-266e-446b-e671-f430724ae1aa"
      },
      "execution_count": 71,
      "outputs": [
        {
          "output_type": "stream",
          "name": "stdout",
          "text": [
            "Accuracy of the SVM with hyperparameters tuning: 77.285319\n"
          ]
        }
      ]
    },
    {
      "cell_type": "markdown",
      "source": [
        "10-fold cross validation mean accuracy of SVM with hyperparameter tuning"
      ],
      "metadata": {
        "id": "KAzMr_vagtPI"
      }
    },
    {
      "cell_type": "code",
      "source": [
        "cv_scores_with_hyp = cross_val_score(svc_with_hyp, X_vals, Y_vals, cv = 10)\n",
        "print(f\"10-fold cross validation mean accuracy score with hyperparameter tuning: {cv_scores_with_hyp.mean()*100:2f}\")\n"
      ],
      "metadata": {
        "colab": {
          "base_uri": "https://localhost:8080/"
        },
        "id": "A7xLWHgIfVzi",
        "outputId": "795014de-1e42-4f3c-8f90-8048c086e5ba"
      },
      "execution_count": 72,
      "outputs": [
        {
          "output_type": "stream",
          "name": "stdout",
          "text": [
            "10-fold cross validation mean accuracy score with hyperparameter tuning: 75.187328\n"
          ]
        }
      ]
    },
    {
      "cell_type": "markdown",
      "source": [
        "Select features and split based on the selected features using SelectKBest"
      ],
      "metadata": {
        "id": "KRdYDS0Sg-Ls"
      }
    },
    {
      "cell_type": "code",
      "source": [
        "selector = SelectKBest(f_classif, k=100)\n",
        "X_selected = selector.fit_transform(X_vals, Y_vals)\n",
        "\n",
        "X_train, X_test, Y_train, Y_test = train_test_split(X_selected, Y_vals, test_size=0.3, random_state=42)"
      ],
      "metadata": {
        "id": "1VtM0y0eg8y1"
      },
      "execution_count": 73,
      "outputs": []
    },
    {
      "cell_type": "markdown",
      "source": [
        "SVM training and predicting with feature selection + hyperparameter tuning"
      ],
      "metadata": {
        "id": "YxpBOMIPhEXU"
      }
    },
    {
      "cell_type": "code",
      "source": [
        "svc_with_hyp.fit(X_train, Y_train)\n",
        "y_pred_hyp_selected = svc_with_hyp.predict(X_test)\n",
        "accuracy_score_with_hyp_selected = accuracy_score(Y_test, y_pred_hyp_selected)\n",
        "print(f\"Accuracy with hyperparameter + selected feature:  {accuracy_score_with_hyp_selected * 100:2f}\")"
      ],
      "metadata": {
        "colab": {
          "base_uri": "https://localhost:8080/"
        },
        "id": "Xl3OU14qhBVB",
        "outputId": "5ffa2a5a-5b81-4b14-9543-98382f2857a9"
      },
      "execution_count": 74,
      "outputs": [
        {
          "output_type": "stream",
          "name": "stdout",
          "text": [
            "Accuracy with hyperparameter + selected feature:  77.285319\n"
          ]
        }
      ]
    },
    {
      "cell_type": "markdown",
      "source": [
        "10-fold cross validation mean accuracy of SVM with hyperparameter tuning + features selection"
      ],
      "metadata": {
        "id": "L7DkGjdRhKOL"
      }
    },
    {
      "cell_type": "code",
      "source": [
        "cv_scores_with_hyp_selected = cross_val_score(svc_with_hyp, X_selected, Y_vals, cv = 10)\n",
        "print(f\"10-fold cross validation accuracy with hyperparameter + selected feature:  {cv_scores_with_hyp_selected.mean() * 100:2f}\")\n"
      ],
      "metadata": {
        "colab": {
          "base_uri": "https://localhost:8080/"
        },
        "id": "PUtS9zHDhJ44",
        "outputId": "95b1e105-26de-4457-e354-7d42728588ff"
      },
      "execution_count": 75,
      "outputs": [
        {
          "output_type": "stream",
          "name": "stdout",
          "text": [
            "10-fold cross validation accuracy with hyperparameter + selected feature:  75.187328\n"
          ]
        }
      ]
    },
    {
      "cell_type": "markdown",
      "source": [
        "Perform PCA to reduce dimensionality"
      ],
      "metadata": {
        "id": "z3DwIve9hTEE"
      }
    },
    {
      "cell_type": "code",
      "source": [
        "pca = PCA(n_components=10)\n",
        "X_pca = pca.fit_transform(X_vals)\n",
        "\n",
        "X_train, X_test, Y_train, Y_test = train_test_split(X_pca, Y_vals, test_size=0.2, random_state=1)"
      ],
      "metadata": {
        "id": "zO0GdOGMhTsv"
      },
      "execution_count": 76,
      "outputs": []
    },
    {
      "cell_type": "markdown",
      "source": [
        "SVM training and predicting with PCA + hyperparameter tuning"
      ],
      "metadata": {
        "id": "YmijVRDShaHu"
      }
    },
    {
      "cell_type": "code",
      "source": [
        "svc_with_hyp.fit(X_train, Y_train)\n",
        "y_pred_hyp_pca = svc_with_hyp.predict(X_test)\n",
        "accuracy_score_with_hyp_pca = accuracy_score(Y_test, y_pred_hyp_pca)\n",
        "print(f\"Accuracy of the model after PCA: {accuracy_score_with_hyp_pca*100:2f}\")"
      ],
      "metadata": {
        "colab": {
          "base_uri": "https://localhost:8080/"
        },
        "id": "XF_kdz-HhXEv",
        "outputId": "19fd9c90-dc54-4548-e9bb-b74ae05006ee"
      },
      "execution_count": 77,
      "outputs": [
        {
          "output_type": "stream",
          "name": "stdout",
          "text": [
            "Accuracy of the model after PCA: 79.253112\n"
          ]
        }
      ]
    },
    {
      "cell_type": "markdown",
      "source": [
        "10-fold cross validation mean accuracy of SVM with hyperparameter tuning + PCA"
      ],
      "metadata": {
        "id": "mqTaISh6heLj"
      }
    },
    {
      "cell_type": "code",
      "source": [
        "cv_score_with_hyp_pca = cross_val_score(svc_with_hyp, X_pca, Y_vals, cv = 10)\n",
        "print(f\"10-fold cross validation accuracy after PCA: {cv_score_with_hyp_pca.mean() *100:2f}\")"
      ],
      "metadata": {
        "colab": {
          "base_uri": "https://localhost:8080/"
        },
        "id": "KsFaCzLxhed6",
        "outputId": "7e5505d1-4f57-43cc-ab0a-389550ba0207"
      },
      "execution_count": 78,
      "outputs": [
        {
          "output_type": "stream",
          "name": "stdout",
          "text": [
            "10-fold cross validation accuracy after PCA: 75.187328\n"
          ]
        }
      ]
    },
    {
      "cell_type": "markdown",
      "source": [
        "# **Model selection**"
      ],
      "metadata": {
        "id": "LL6XBxiYh0EY"
      }
    },
    {
      "cell_type": "markdown",
      "source": [
        "* SGD\n",
        "* RandomForest\n",
        "* MLPClassifier"
      ],
      "metadata": {
        "id": "pvDGk21ah67_"
      }
    },
    {
      "cell_type": "code",
      "source": [
        "X_data = all_data_df.drop(['class', 'Minute'], axis=1)\n",
        "Y_data = all_data_df['class']\n",
        "\n",
        "X_train, X_test, Y_train, Y_test = train_test_split(X_data, Y_data, test_size=0.3, random_state=42)"
      ],
      "metadata": {
        "id": "HsvgNNffolxS"
      },
      "execution_count": 79,
      "outputs": []
    },
    {
      "cell_type": "markdown",
      "source": [
        "SGD implementation"
      ],
      "metadata": {
        "id": "_sv0NFfnaibz"
      }
    },
    {
      "cell_type": "code",
      "source": [
        "sgd = SGDClassifier(random_state=42)\n",
        "sgd.fit(X_train, Y_train)\n",
        "y_pred_sgd = sgd.predict(X_test)\n",
        "accuracy_score_sgd = accuracy_score(Y_test, y_pred_sgd)\n",
        "print(f\"Accuracy of the SGD model: {accuracy_score_sgd * 100:2f}\")"
      ],
      "metadata": {
        "colab": {
          "base_uri": "https://localhost:8080/"
        },
        "id": "nKaQq_SJooqk",
        "outputId": "2b0ba90d-56a9-4664-db1a-d3cea41d03bd"
      },
      "execution_count": 80,
      "outputs": [
        {
          "output_type": "stream",
          "name": "stdout",
          "text": [
            "Accuracy of the SGD model: 82.825485\n"
          ]
        }
      ]
    },
    {
      "cell_type": "code",
      "source": [
        "cv_score_sgd = cross_val_score(sgd, X_data, Y_data, cv=10)\n",
        "cv_score_sgd_mean = cv_score_sgd.mean()\n",
        "print(f\"10-fold cross validation accuracy of the SGD model: {cv_score_sgd_mean * 100:2f}\")"
      ],
      "metadata": {
        "colab": {
          "base_uri": "https://localhost:8080/"
        },
        "id": "37WfsJGwo9DX",
        "outputId": "746f9b58-1350-4cfb-9ba8-3c46f7b270ea"
      },
      "execution_count": 81,
      "outputs": [
        {
          "output_type": "stream",
          "name": "stdout",
          "text": [
            "10-fold cross validation accuracy of the SGD model: 72.770661\n"
          ]
        }
      ]
    },
    {
      "cell_type": "markdown",
      "source": [
        "RandomForest implementation"
      ],
      "metadata": {
        "id": "AifGz6oUanw1"
      }
    },
    {
      "cell_type": "code",
      "source": [
        "rf = RandomForestClassifier(random_state=42)\n",
        "rf.fit(X_train, Y_train)\n",
        "y_pred_rf = rf.predict(X_test)\n",
        "accuracy_score_rf = accuracy_score(Y_test, y_pred_rf)\n",
        "print(f\"Accuracy of the Random Forest model: {accuracy_score_rf * 100:2f}\")"
      ],
      "metadata": {
        "colab": {
          "base_uri": "https://localhost:8080/"
        },
        "id": "E7_xmqlMpA8l",
        "outputId": "28940e7a-3e7a-401d-83c2-9e00d5330a5d"
      },
      "execution_count": 82,
      "outputs": [
        {
          "output_type": "stream",
          "name": "stdout",
          "text": [
            "Accuracy of the Random Forest model: 86.703601\n"
          ]
        }
      ]
    },
    {
      "cell_type": "code",
      "source": [
        "cv_score_rf = cross_val_score(rf, X_data, Y_data, cv=10)\n",
        "cv_score_rf_mean = cv_score_rf.mean()\n",
        "print(f\"10-fold cross validation accuracy of the Random Forest model: {cv_score_rf_mean * 100:2f}\")"
      ],
      "metadata": {
        "colab": {
          "base_uri": "https://localhost:8080/"
        },
        "id": "C_sKuwaSpD1g",
        "outputId": "a386098a-41b4-42eb-e2c0-f5bb50d957d9"
      },
      "execution_count": 83,
      "outputs": [
        {
          "output_type": "stream",
          "name": "stdout",
          "text": [
            "10-fold cross validation accuracy of the Random Forest model: 84.517218\n"
          ]
        }
      ]
    },
    {
      "cell_type": "markdown",
      "source": [
        "MLPClassifier Implemetation"
      ],
      "metadata": {
        "id": "NUYmrP0Darn_"
      }
    },
    {
      "cell_type": "code",
      "source": [
        "mlp = MLPClassifier(random_state=42)\n",
        "mlp.fit(X_train, Y_train)\n",
        "y_pred_mlp = mlp.predict(X_test)\n",
        "accuracy_score_mlp = accuracy_score(Y_test, y_pred_mlp)\n",
        "print(f\"Accuracy of the MLP model: {accuracy_score_mlp * 100:2f}\")"
      ],
      "metadata": {
        "colab": {
          "base_uri": "https://localhost:8080/"
        },
        "id": "FXy013ekpI9i",
        "outputId": "b9aa87e4-f146-40cb-877f-c30072db8a54"
      },
      "execution_count": 84,
      "outputs": [
        {
          "output_type": "stream",
          "name": "stdout",
          "text": [
            "Accuracy of the MLP model: 81.440443\n"
          ]
        }
      ]
    },
    {
      "cell_type": "code",
      "source": [
        "cv_score_mlp = cross_val_score(mlp, X_data, Y_data, cv=10)\n",
        "cv_score_mlp_mean = cv_score_mlp.mean()\n",
        "print(f\"10-fold cross validation accuracy of the MLP model: {cv_score_mlp_mean * 100:2f}\")"
      ],
      "metadata": {
        "colab": {
          "base_uri": "https://localhost:8080/"
        },
        "id": "1NSjWQegpL5T",
        "outputId": "0123e163-63d4-4f8e-f06b-99f986a86b7c"
      },
      "execution_count": 85,
      "outputs": [
        {
          "output_type": "stream",
          "name": "stdout",
          "text": [
            "10-fold cross validation accuracy of the MLP model: 76.604683\n"
          ]
        }
      ]
    }
  ]
}